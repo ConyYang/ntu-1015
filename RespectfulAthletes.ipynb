{
 "cells": [
  {
   "cell_type": "markdown",
   "metadata": {},
   "source": [
    "## Respectful Athletes"
   ]
  },
  {
   "cell_type": "code",
   "execution_count": null,
   "metadata": {},
   "outputs": [],
   "source": [
    "# Basic Libraries\n",
    "import numpy as np\n",
    "import pandas as pd\n",
    "import seaborn as sb\n",
    "import matplotlib.pyplot as plt # we only need pyplot\n",
    "sb.set() # set the default Seaborn style for graphics\n",
    "import plotly \n",
    "plotly.tools.set_credentials_file(username='yang_yubei0218', api_key='qK2K9JiG0JNj045lTh7t')\n",
    "import plotly.plotly as py\n",
    "import plotly.graph_objs as go"
   ]
  },
  {
   "cell_type": "code",
   "execution_count": null,
   "metadata": {},
   "outputs": [],
   "source": [
    "from collections import OrderedDict"
   ]
  },
  {
   "cell_type": "code",
   "execution_count": null,
   "metadata": {},
   "outputs": [],
   "source": [
    "olympic = pd.read_csv('/Users/yangyubei/Desktop/1015project/120-years-of-olympic-history-athletes-and-results/athlete_events.csv')\n",
    "\n",
    "regions = pd.read_csv('/Users/yangyubei/Desktop/1015project/120-years-of-olympic-history-athletes-and-results/noc_regions.csv')"
   ]
  },
  {
   "cell_type": "code",
   "execution_count": null,
   "metadata": {},
   "outputs": [],
   "source": [
    "#merged the two dataset\n",
    "olympicData = pd.merge(olympic, regions, on='NOC', how='left')"
   ]
  },
  {
   "cell_type": "markdown",
   "metadata": {},
   "source": [
    "### Athlets who joined olympics number count"
   ]
  },
  {
   "cell_type": "code",
   "execution_count": null,
   "metadata": {},
   "outputs": [],
   "source": [
    "Athlets = pd.DataFrame(olympicData[[\"region\", \"Year\",\"Name\",\"NOC\"]])\n",
    "Name = Athlets['Name']"
   ]
  },
  {
   "cell_type": "code",
   "execution_count": null,
   "metadata": {},
   "outputs": [],
   "source": [
    "Name_List = list(OrderedDict.fromkeys(Name))"
   ]
  },
  {
   "cell_type": "code",
   "execution_count": null,
   "metadata": {
    "collapsed": true
   },
   "outputs": [],
   "source": [
    "Name_List"
   ]
  },
  {
   "cell_type": "code",
   "execution_count": null,
   "metadata": {},
   "outputs": [],
   "source": [
    "len(Name_List)"
   ]
  },
  {
   "cell_type": "code",
   "execution_count": null,
   "metadata": {},
   "outputs": [],
   "source": [
    "countone = 0\n",
    "counttwo = 0\n",
    "countthree =0\n",
    "countfour=0\n",
    "countfive=0\n",
    "countsix = 0\n",
    "countseven =0\n",
    "for everyathlets in Name_List:\n",
    "    every_athlets= Athlets[(Athlets.Name==everyathlets)]\n",
    "    n = every_athlets['Year'].nunique()\n",
    "    if n==1:\n",
    "       countone +=1\n",
    "    elif n==2:\n",
    "       counttwo +=1\n",
    "    elif n==3:\n",
    "       countthree +=1\n",
    "    elif n==4:\n",
    "        countfour +=1\n",
    "    elif n == 5:\n",
    "        countfive +=1\n",
    "    elif n == 6:\n",
    "        countsix +=1\n",
    "    elif n ==7:\n",
    "        countseven +=1\n",
    "    else:\n",
    "        print(everyathlets,n)"
   ]
  },
  {
   "cell_type": "code",
   "execution_count": null,
   "metadata": {},
   "outputs": [],
   "source": [
    "countone"
   ]
  },
  {
   "cell_type": "code",
   "execution_count": null,
   "metadata": {},
   "outputs": [],
   "source": [
    "counttwo"
   ]
  },
  {
   "cell_type": "code",
   "execution_count": null,
   "metadata": {},
   "outputs": [],
   "source": [
    "countthree"
   ]
  },
  {
   "cell_type": "code",
   "execution_count": null,
   "metadata": {},
   "outputs": [],
   "source": [
    "countfour"
   ]
  },
  {
   "cell_type": "code",
   "execution_count": null,
   "metadata": {},
   "outputs": [],
   "source": [
    "countfive"
   ]
  },
  {
   "cell_type": "code",
   "execution_count": null,
   "metadata": {},
   "outputs": [],
   "source": [
    "countsix"
   ]
  },
  {
   "cell_type": "code",
   "execution_count": null,
   "metadata": {},
   "outputs": [],
   "source": [
    "countseven "
   ]
  },
  {
   "cell_type": "markdown",
   "metadata": {},
   "source": [
    "count8 = 9 \n",
    "count9 = 2\n",
    "count10 = 1\n",
    "Francisco Boza Dibos 8\n",
    "Rajmond Debevec 8\n",
    "Piero D'Inzeo 8\n",
    "Raimondo D'Inzeo 8\n",
    "Paul Bert Elvstrm 8\n",
    "Josefa Idem-Guerrini 8\n",
    "Durward Randolph Knowles 8\n",
    "Afanasijs Kuzmins 9\n",
    "Ian Millar 10\n",
    "Hubert Raudaschl 9\n",
    "Nino Salukvadze (-Machavariani) 8\n",
    "Lesley Allison Thompson-Willie 8"
   ]
  },
  {
   "cell_type": "code",
   "execution_count": null,
   "metadata": {},
   "outputs": [],
   "source": [
    "timesattend=['1', '2', '3','4','5','6','7','8','9','10']\n",
    "noAthlets=[97338, 26278, 8132,2218,581,141,32,9,2,1]\n",
    "trace0 = go.Bar(\n",
    "    x=timesattend,\n",
    "    y=noAthlets,\n",
    "    text=noAthlets,\n",
    "    textposition = 'auto',\n",
    "    marker=dict(\n",
    "        color='rgb(227,151,103)',\n",
    "        line=dict(\n",
    "            color='rgb(8,48,107)',\n",
    "            width=1.5,\n",
    "        )\n",
    "    ),\n",
    "    opacity=0.6\n",
    ")\n",
    "\n",
    "data = [trace0]\n",
    "layout = go.Layout(\n",
    "    title='NO.of Participants Take How Many Times Olympics',\n",
    ")\n",
    "\n",
    "fig = go.Figure(data=data, layout=layout)\n",
    "py.iplot(fig, filename='text-hover-bar')"
   ]
  },
  {
   "cell_type": "markdown",
   "metadata": {},
   "source": [
    "# Medal for Athlets"
   ]
  },
  {
   "cell_type": "code",
   "execution_count": null,
   "metadata": {},
   "outputs": [],
   "source": [
    "Athlets_Medal = pd.DataFrame(olympicData[[\"region\", \"Year\",\"Name\",\"Medal\"]]\n",
    "                                            [(olympicData['Medal']=='Gold')|\n",
    "                            (olympicData['Medal']=='Silver')|\n",
    "                           (olympicData['Medal']=='Bronze')])\n",
    "MedalName = Athlets_Medal ['Name']\n",
    "Name_List_Medal= list(OrderedDict.fromkeys(MedalName))\n",
    "Name_List_Medal"
   ]
  },
  {
   "cell_type": "code",
   "execution_count": null,
   "metadata": {},
   "outputs": [],
   "source": [
    "Athlets_Medal"
   ]
  },
  {
   "cell_type": "code",
   "execution_count": null,
   "metadata": {},
   "outputs": [],
   "source": [
    "len(Name_List_Medal)"
   ]
  },
  {
   "cell_type": "code",
   "execution_count": null,
   "metadata": {},
   "outputs": [],
   "source": []
  },
  {
   "cell_type": "markdown",
   "metadata": {},
   "source": [
    "### There are 134732 athelets but only 28202 won a medal"
   ]
  },
  {
   "cell_type": "code",
   "execution_count": null,
   "metadata": {},
   "outputs": [],
   "source": [
    "Medalone = 0\n",
    "Medaltwo = 0\n",
    "Medalthree =0\n",
    "Medalfour=0\n",
    "Medalfive=0\n",
    "Medalsix = 0\n",
    "Medalseven =0\n",
    "Medaleight=0\n",
    "Medalnine=0\n",
    "Medalten=0\n",
    "n=0\n",
    "for medalwinner in Name_List_Medal:\n",
    "    n=0\n",
    "    for medalname in Athlets_Medal['Name']:\n",
    "        if (medalwinner==medalname):\n",
    "            n+=1\n",
    "    if n==1:\n",
    "       Medalone +=1\n",
    "    elif n==2:\n",
    "       Medaltwo +=1\n",
    "    elif n==3:\n",
    "       Medalthree +=1\n",
    "    elif n==4:\n",
    "        Medalfour +=1\n",
    "    elif n == 5:\n",
    "        Medalfive+=1\n",
    "    elif n == 6:\n",
    "        Medalsix +=1\n",
    "    elif n ==7:\n",
    "        Medalseven+=1\n",
    "    elif n==8:\n",
    "        Medaleight +=1\n",
    "    elif n==9:\n",
    "        Medalnine +=1\n",
    "    elif n==10:\n",
    "        Medalten +=1\n",
    "    else:\n",
    "        print(medalwinner,n)"
   ]
  },
  {
   "cell_type": "code",
   "execution_count": null,
   "metadata": {},
   "outputs": [],
   "source": [
    "print(Medalone, Medaltwo,Medalthree,Medalfour,Medalfive, Medalsix,Medalseven,Medaleight,Medalnine,Medalten)"
   ]
  },
  {
   "cell_type": "code",
   "execution_count": null,
   "metadata": {},
   "outputs": [],
   "source": [
    "NoMedal=['1', '2', '3','4','5','6','7','8','9','10','11','12','13','15','18','28']\n",
    "NoParticipant=[21187, 4619,1385,530,214,115,54,39,22,16, 5,7,4,1,1,1]\n",
    "trace0 = go.Bar(\n",
    "    x=NoMedal,\n",
    "    y=NoParticipant,\n",
    "    text=NoParticipant,\n",
    "    textposition = 'auto',\n",
    "    marker=dict(\n",
    "        color='rgb(227,151,103)',\n",
    "        line=dict(\n",
    "            color='rgb(8,48,107)',\n",
    "            width=1.5,\n",
    "        )\n",
    "    ),\n",
    "    opacity=0.6\n",
    ")\n",
    "\n",
    "data = [trace0]\n",
    "layout = go.Layout(\n",
    "    title='No.of Athelets win No.Of Medals ',\n",
    ")\n",
    "\n",
    "fig = go.Figure(data=data, layout=layout)\n",
    "py.iplot(fig, filename='text-hover-bar')"
   ]
  },
  {
   "cell_type": "code",
   "execution_count": null,
   "metadata": {},
   "outputs": [],
   "source": []
  }
 ],
 "metadata": {
  "kernelspec": {
   "display_name": "Python 3",
   "language": "python",
   "name": "python3"
  },
  "language_info": {
   "codemirror_mode": {
    "name": "ipython",
    "version": 3
   },
   "file_extension": ".py",
   "mimetype": "text/x-python",
   "name": "python",
   "nbconvert_exporter": "python",
   "pygments_lexer": "ipython3",
   "version": "3.7.1"
  }
 },
 "nbformat": 4,
 "nbformat_minor": 2
}