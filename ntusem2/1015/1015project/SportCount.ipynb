{
 "cells": [
  {
   "cell_type": "markdown",
   "metadata": {},
   "source": [
    "#  Olympic Sports"
   ]
  },
  {
   "cell_type": "code",
   "execution_count": null,
   "metadata": {},
   "outputs": [],
   "source": [
    "# Basic Libraries\n",
    "import numpy as np\n",
    "import pandas as pd\n",
    "import seaborn as sb\n",
    "import matplotlib.pyplot as plt # we only need pyplot\n",
    "sb.set() # set the default Seaborn style for graphics\n",
    "\n",
    "import plotly.offline as py\n",
    "import plotly.figure_factory as ff\n",
    "import plotly.graph_objs as go\n",
    "from plotly import tools\n",
    "# Activate inline plotting in notebook\n",
    "py.init_notebook_mode(connected = False)"
   ]
  },
  {
   "cell_type": "code",
   "execution_count": null,
   "metadata": {},
   "outputs": [],
   "source": [
    "olympic = pd.read_csv('/Users/yangyubei/Desktop/1015project/120-years-of-olympic-history-athletes-and-results/athlete_events.csv')\n",
    "\n",
    "regions = pd.read_csv('/Users/yangyubei/Desktop/1015project/120-years-of-olympic-history-athletes-and-results/noc_regions.csv')"
   ]
  },
  {
   "cell_type": "markdown",
   "metadata": {},
   "source": [
    "More such Statistical Graphics are demonstrated at https://plot.ly/python/statistical-charts/\n",
    "Basic charts and plots by Plotly are demostrated at https://plot.ly/python/basic-charts/\n",
    "Fundamental components of Plotly are illustrated at https://plot.ly/python/plotly-fundamentals/"
   ]
  },
  {
   "cell_type": "markdown",
   "metadata": {},
   "source": [
    "## Data Frame"
   ]
  },
  {
   "cell_type": "markdown",
   "metadata": {},
   "source": [
    "### Analyze the no.of people for each country to get a medal in specific sport"
   ]
  },
  {
   "cell_type": "code",
   "execution_count": null,
   "metadata": {},
   "outputs": [],
   "source": [
    "#merged the two dataset\n",
    "olympicData = pd.merge(olympic, regions, on='NOC', how='left')"
   ]
  },
  {
   "cell_type": "code",
   "execution_count": null,
   "metadata": {},
   "outputs": [],
   "source": [
    "#get the data of sports since 1984\n",
    "Sport = pd.DataFrame(olympicData[[\"NOC\", \"Year\",\"Sex\",\"Sport\",\"Medal\"]]\n",
    "                     [olympicData['Year']>=1984]\n",
    "                     [(olympicData['Medal']=='Gold')|\n",
    "                            (olympicData['Medal']=='Silver')|\n",
    "                           (olympicData['Medal']=='Bronze')])"
   ]
  },
  {
   "cell_type": "code",
   "execution_count": null,
   "metadata": {},
   "outputs": [],
   "source": [
    "Sport.head(20)"
   ]
  },
  {
   "cell_type": "code",
   "execution_count": null,
   "metadata": {},
   "outputs": [],
   "source": [
    "Sport.Sport.value_counts().reset_index(name='SportCount')\n",
    "#There are total 50 kinds of sports"
   ]
  },
  {
   "cell_type": "code",
   "execution_count": null,
   "metadata": {},
   "outputs": [],
   "source": [
    "USA_sport = Sport[((Sport.Medal=='Gold')|\n",
    "                            (Sport.Medal=='Silver')|\n",
    "                           (Sport.Medal=='Bronze'))&\n",
    "                           (Sport.Year>=1984)&(Sport.NOC =='USA')]"
   ]
  },
  {
   "cell_type": "code",
   "execution_count": null,
   "metadata": {},
   "outputs": [],
   "source": [
    "USA_sport['Sport'].nunique()"
   ]
  },
  {
   "cell_type": "code",
   "execution_count": null,
   "metadata": {},
   "outputs": [],
   "source": [
    "regionCode = pd.read_csv('/Users/yangyubei/Desktop/1015project/world.csv')\n",
    "list_region = regionCode['Code']#get list of regions"
   ]
  },
  {
   "cell_type": "code",
   "execution_count": null,
   "metadata": {},
   "outputs": [],
   "source": [
    "Country_Sport_List = []\n",
    "for everyCountry in list_region:\n",
    "    Country_sport = Sport[((Sport.Medal=='Gold')|\n",
    "                            (Sport.Medal=='Silver')|\n",
    "                           (Sport.Medal=='Bronze'))&\n",
    "                           (Sport.Year>=1984)&(Sport.NOC ==everyCountry)]\n",
    "    n = Country_sport['Sport'].nunique()\n",
    "    Country_Sport_List.append(n)\n",
    "    print(everyCountry,n)"
   ]
  },
  {
   "cell_type": "code",
   "execution_count": null,
   "metadata": {},
   "outputs": [],
   "source": [
    "Country_Sport_List"
   ]
  },
  {
   "cell_type": "code",
   "execution_count": null,
   "metadata": {},
   "outputs": [],
   "source": [
    "Sports_Number_data = [go.Choropleth(\n",
    "    locations =   regionCode['Code'],\n",
    "    z = Country_Sport_List,\n",
    "    colorscale =\n",
    "     [\n",
    "       [0, \"rgb(80,5,10)\"],\n",
    "        [0.35, \"rgb(150,40,60)\"],\n",
    "        [0.5, \"rgb(180,60,70)\"],\n",
    "        [0.6, \"rgb(190,70,80)\"],\n",
    "        [0.7, \"rgb(200,80,90)\"],\n",
    "        [0.75, \"rgb(210,90,100)\"],\n",
    "        [0.8, \"rgb(220,100,110)\"],\n",
    "        [0.85, \"rgb(230,100,110)\"],\n",
    "        [0.9, \"rgb(240,120,120)\"],\n",
    "        [0.95, \"rgb(245,200,120)\"],\n",
    "        [1, \"rgb(245,245,245)\"]],\n",
    "    autocolorscale = False,\n",
    "    reversescale = True,\n",
    "    marker = go.choropleth.Marker(\n",
    "        line = go.choropleth.marker.Line(\n",
    "            color = 'rgb(180,180,180)',\n",
    "            width = 0.5\n",
    "        )),\n",
    "    colorbar = go.choropleth.ColorBar(\n",
    "        title = 'No.Sports'),\n",
    ")]\n",
    "\n",
    "layout = go.Layout(\n",
    "    title = go.layout.Title(\n",
    "        text = 'No.Sports Country Won Medal'\n",
    "    ),\n",
    "    geo = go.layout.Geo(\n",
    "        landcolor = 'grey',\n",
    "        showland = True,\n",
    "        showcountries = True,\n",
    "        showframe = False,\n",
    "        showcoastlines = False,\n",
    "        projection = go.layout.geo.Projection(\n",
    "            type = 'equirectangular'\n",
    "        )\n",
    "    ),width =800, height = 600\n",
    ")\n",
    "\n",
    "fig = go.Figure(data = Sports_Number_data, layout = layout)\n",
    "py.iplot(fig, filename = 'WorldAtheltes')"
   ]
  },
  {
   "cell_type": "markdown",
   "metadata": {},
   "source": [
    "# Sport Count"
   ]
  },
  {
   "cell_type": "code",
   "execution_count": null,
   "metadata": {},
   "outputs": [],
   "source": [
    "sb.catplot(y = 'Sport', data = olympicData, kind = \"count\", height = 15)"
   ]
  },
  {
   "cell_type": "markdown",
   "metadata": {},
   "source": [
    "## Athletics"
   ]
  },
  {
   "cell_type": "code",
   "execution_count": null,
   "metadata": {
    "collapsed": true
   },
   "outputs": [],
   "source": [
    "Athletics_Total= pd.DataFrame(olympicData[[\"region\", \"Sport\",\"Medal\"]]\n",
    "                     [olympicData['Year']>=1984]\n",
    "                     [(olympicData['Medal']=='Gold')|\n",
    "                            (olympicData['Medal']=='Silver')|\n",
    "                           (olympicData['Medal']=='Bronze')]\n",
    "                     [olympicData['Sport'] == 'Athletics'])\n",
    "\n",
    "Athletics_Gold= pd.DataFrame(olympicData[[\"region\", \"Sport\",\"Medal\"]]\n",
    "                     [olympicData['Year']>=1984]\n",
    "                     [olympicData['Medal']=='Gold']\n",
    "                     [olympicData['Sport'] == 'Athletics'])\n",
    "\n",
    "Athletics_Silver= pd.DataFrame(olympicData[[\"region\", \"Sport\",\"Medal\"]]\n",
    "                     [olympicData['Year']>=1984]\n",
    "                     [olympicData['Medal']=='Silver']\n",
    "                     [olympicData['Sport'] == 'Athletics'])\n",
    "\n",
    "Athletics_Bronze= pd.DataFrame(olympicData[[\"region\", \"Sport\",\"Medal\"]]\n",
    "                     [olympicData['Year']>=1984]\n",
    "                     [olympicData['Medal']=='Bronze']\n",
    "                     [olympicData['Sport'] == 'Athletics'])"
   ]
  },
  {
   "cell_type": "code",
   "execution_count": null,
   "metadata": {
    "collapsed": true
   },
   "outputs": [],
   "source": [
    "Athletics_Total.region.value_counts().reset_index(name='TotalMedal')\n",
    "#USA: 369 Russia: 168 Jamaica 139 UK 100 Germany 98 Kenya 78 Ethiopia 43 Nigeria 41"
   ]
  },
  {
   "cell_type": "code",
   "execution_count": null,
   "metadata": {
    "collapsed": true
   },
   "outputs": [],
   "source": [
    "Athletics_Gold.region.value_counts().reset_index(name='GoldMedal')"
   ]
  },
  {
   "cell_type": "code",
   "execution_count": null,
   "metadata": {
    "collapsed": true
   },
   "outputs": [],
   "source": [
    "Athletics_Silver.region.value_counts().reset_index(name='SilverMedal')"
   ]
  },
  {
   "cell_type": "code",
   "execution_count": null,
   "metadata": {
    "collapsed": true
   },
   "outputs": [],
   "source": [
    "Athletics_Bronze.region.value_counts().reset_index(name='BronzeMedal')"
   ]
  },
  {
   "cell_type": "code",
   "execution_count": null,
   "metadata": {},
   "outputs": [],
   "source": [
    "#Choose the top 10 countries to analysize\n",
    "#USA Russia Jamaica UK Germany\n",
    "#kenya Ethiopia Nigeria Canada Cuba \n",
    "\n",
    "top_labels = ['Gold', 'Silver', 'Bronze']\n",
    "\n",
    "colors = [ 'rgba(232, 152,114,0.9)','rgba(247,204,116,0.9)','rgba(236,152,140,0.9)']\n",
    "\n",
    "country_data = [\n",
    "                       [7,11,19],#Cuba\n",
    "                       [8,11,19],#Canada\n",
    "                       [7,10,24],#Nigeria\n",
    "                       [17,8,18],#Ethiopia\n",
    "                       [25,31,22],#Kenya\n",
    "                       [22,26,50],#Germany\n",
    "                       [20,35, 45], #UK\n",
    "                       [31, 68, 40],#Jamaica\n",
    "                       [58, 65, 45],#Russia\n",
    "                       [200, 104, 65]#USA\n",
    "                       ]\n",
    "\n",
    "country_name = ['Cuba','Canada','Nigeria', \n",
    "                        'Ethiopia','Kenya','Germany','UK','Jamaica','Russia','USA']\n",
    "\n",
    "\n",
    "traces = []\n",
    "\n",
    "for i in range(0, len(country_data[0])):\n",
    "    for xd, yd in zip(country_data, country_name):\n",
    "        traces.append(go.Bar(\n",
    "            x=[xd[i]],\n",
    "            y=[yd],\n",
    "            orientation='h',\n",
    "            marker=dict(\n",
    "                color=colors[i],\n",
    "                line=dict(\n",
    "                        color='rgb(248, 248, 249)',\n",
    "                        width=1)\n",
    "            )\n",
    "        ))\n",
    "\n",
    "layout = go.Layout(\n",
    "    xaxis=dict(\n",
    "        showgrid=False,\n",
    "        showline=False,\n",
    "        showticklabels=False,\n",
    "        zeroline=False,\n",
    "        domain=[0.15, 1]\n",
    "    ),\n",
    "    yaxis=dict(\n",
    "        showgrid=False,\n",
    "        showline=False,\n",
    "        showticklabels=False,\n",
    "        zeroline=False,\n",
    "    ),\n",
    "    barmode='stack',\n",
    "    paper_bgcolor='rgb(248, 248, 255)',\n",
    "    plot_bgcolor='rgb(248, 248, 255)',\n",
    "    margin=dict(\n",
    "        l=120,\n",
    "        r=60,\n",
    "        t=140,\n",
    "        b=80\n",
    "    ),\n",
    "    showlegend=False,\n",
    "    title = 'Athletics Medal Top 10'\n",
    ")\n",
    "\n",
    "annotations = []\n",
    "\n",
    "for yd, xd in zip(country_name, country_data):\n",
    "    # labeling the y-axis\n",
    "    annotations.append(dict(xref='paper', yref='y',\n",
    "                            x=0.14, y=yd,\n",
    "                            xanchor='right',\n",
    "                            text=str(yd),\n",
    "                            font=dict(family='Arial', size=10,\n",
    "                                      color='rgb(67, 67, 67)'),\n",
    "                            showarrow=False, align='right'))\n",
    "    \n",
    "    # labeling the first percentage of each bar (x_axis)\n",
    "    annotations.append(dict(xref='x', yref='y',\n",
    "                            x=xd[0] / 2, y=yd,\n",
    "                            text=str(xd[0]),\n",
    "                            font=dict(family='Arial', size=10, #gold\n",
    "                                      color='rgb(248, 248, 255)'),\n",
    "                            showarrow=False))\n",
    "    \n",
    "    # labeling the first Likert scale (on the top)\n",
    "    if yd == country_name[-1]:\n",
    "        annotations.append(dict(xref='x', yref='paper',\n",
    "                                x=xd[0] / 2, y=1.1,\n",
    "                                text=top_labels[0],\n",
    "                                font=dict(family='Arial', size=10,\n",
    "                                          color='rgb(67, 67, 67)'),\n",
    "                                showarrow=False))\n",
    "    space = xd[0]\n",
    "    for i in range(1, len(xd)):\n",
    "            # labeling the rest of percentages for each bar (x_axis)\n",
    "            annotations.append(dict(xref='x', yref='y',\n",
    "                                    x=space + (xd[i]/2), y=yd, \n",
    "                                    text=str(xd[i]),\n",
    "                                    font=dict(family='Arial', size=10,\n",
    "                                              color='rgb(248, 248, 255)'),\n",
    "                                    showarrow=False))\n",
    "            # labeling the Likert scale\n",
    "            if yd == country_name[-1]:\n",
    "                annotations.append(dict(xref='x', yref='paper',\n",
    "                                        x=space + (xd[i]/2), y=1.1,\n",
    "                                        text=top_labels[i],\n",
    "                                        font=dict(family='Arial', size=10,\n",
    "                                                  color='rgb(67, 67, 67)'),\n",
    "                                        showarrow=False))\n",
    "            space += xd[i]\n",
    "\n",
    "layout['annotations'] = annotations\n",
    "\n",
    "fig = go.Figure(data=traces, layout=layout)\n",
    "py.iplot(fig, filename='Medal')"
   ]
  },
  {
   "cell_type": "code",
   "execution_count": null,
   "metadata": {},
   "outputs": [],
   "source": []
  },
  {
   "cell_type": "markdown",
   "metadata": {},
   "source": [
    "## Gymnastics"
   ]
  },
  {
   "cell_type": "code",
   "execution_count": null,
   "metadata": {
    "collapsed": true
   },
   "outputs": [],
   "source": [
    "Gymnastics_Total= pd.DataFrame(olympicData[[\"region\", \"Sport\",\"Medal\"]]\n",
    "                     [olympicData['Year']>=1984]\n",
    "                     [(olympicData['Medal']=='Gold')|\n",
    "                            (olympicData['Medal']=='Silver')|\n",
    "                           (olympicData['Medal']=='Bronze')]\n",
    "                     [olympicData['Sport'] == 'Gymnastics'])\n",
    "\n",
    "Gymnastics_Gold= pd.DataFrame(olympicData[[\"region\", \"Sport\",\"Medal\"]]\n",
    "                     [olympicData['Year']>=1984]\n",
    "                     [olympicData['Medal']=='Gold']\n",
    "                     [olympicData['Sport'] == 'Gymnastics'])\n",
    "\n",
    "Gymnastics_Silver= pd.DataFrame(olympicData[[\"region\", \"Sport\",\"Medal\"]]\n",
    "                     [olympicData['Year']>=1984]\n",
    "                     [olympicData['Medal']=='Silver']\n",
    "                     [olympicData['Sport'] == 'Gymnastics'])\n",
    "\n",
    "Gymnastics_Bronze= pd.DataFrame(olympicData[[\"region\", \"Sport\",\"Medal\"]]\n",
    "                     [olympicData['Year']>=1984]\n",
    "                     [olympicData['Medal']=='Bronze']\n",
    "                     [olympicData['Sport'] == 'Gymnastics'])"
   ]
  },
  {
   "cell_type": "code",
   "execution_count": null,
   "metadata": {
    "collapsed": true
   },
   "outputs": [],
   "source": [
    "Gymnastics_Total.region.value_counts().reset_index(name='TotalMedal')\n",
    "#Russia: 140 USA: 120 China: 109 Romania: 97 Japan: 59  Germany 29 Others: 130"
   ]
  },
  {
   "cell_type": "code",
   "execution_count": null,
   "metadata": {
    "collapsed": true
   },
   "outputs": [],
   "source": [
    "Gymnastics_Gold.region.value_counts().reset_index(name='Gold')\n",
    "#Russia: 56 China: 45 USA: 38 Romania: 35 Japan:16 Germany: 3 Others: 31"
   ]
  },
  {
   "cell_type": "code",
   "execution_count": null,
   "metadata": {
    "collapsed": true
   },
   "outputs": [],
   "source": [
    "Gymnastics_Silver.region.value_counts().reset_index(name='Silver')\n",
    "#Russia: 48 USA: 48 China: 34  Romania: 25 Japan:18 Germany: 13 Others: 27"
   ]
  },
  {
   "cell_type": "code",
   "execution_count": null,
   "metadata": {
    "collapsed": true
   },
   "outputs": [],
   "source": [
    "Gymnastics_Bronze.region.value_counts().reset_index(name='Bronze')\n",
    "#Romania: 37  Russia: 36 USA: 34 China: 30  Japan:25 Germany: 13 Others: 43"
   ]
  },
  {
   "cell_type": "code",
   "execution_count": null,
   "metadata": {},
   "outputs": [],
   "source": [
    "#Choose the top 10 countries to analysize\n",
    "#USA Russia Jamaica UK Germany\n",
    "#kenya Ethiopia Nigeria Canada Cuba \n",
    "\n",
    "top_labels = ['Gold', 'Silver', 'Bronze']\n",
    "\n",
    "colors = [ 'rgba(232, 152,114,0.9)','rgba(247,204,116,0.9)','rgba(236,152,140,0.9)']\n",
    "\n",
    "country_data = [\n",
    "                       [1,2,4],#Bulgaria\n",
    "                       [1,4,4],#South Korea\n",
    "                       [2,2,11],#UK\n",
    "                       [5,8,18],#Ukraine\n",
    "                       [3,13,13],#Germany\n",
    "                       [16,18,25],#Japan\n",
    "                       [35,25, 36], #Romania\n",
    "                       [45, 34, 30],#China\n",
    "                       [38, 48, 34],#USA\n",
    "                       [56, 48, 36]#Russia\n",
    "                       ]\n",
    "\n",
    "country_name = ['Bulgaria','South Korea','UK', \n",
    "                        'Ukraine','Germany','Japan','Romania','China','USA','Russia']\n",
    "\n",
    "\n",
    "traces = []\n",
    "\n",
    "for i in range(0, len(country_data[0])):\n",
    "    for xd, yd in zip(country_data, country_name):\n",
    "        traces.append(go.Bar(\n",
    "            x=[xd[i]],\n",
    "            y=[yd],\n",
    "            orientation='h',\n",
    "            marker=dict(\n",
    "                color=colors[i],\n",
    "                line=dict(\n",
    "                        color='rgb(248, 248, 249)',\n",
    "                        width=1)\n",
    "            )\n",
    "        ))\n",
    "\n",
    "layout = go.Layout(\n",
    "    xaxis=dict(\n",
    "        showgrid=False,\n",
    "        showline=False,\n",
    "        showticklabels=False,\n",
    "        zeroline=False,\n",
    "        domain=[0.15, 1]\n",
    "    ),\n",
    "    yaxis=dict(\n",
    "        showgrid=False,\n",
    "        showline=False,\n",
    "        showticklabels=False,\n",
    "        zeroline=False,\n",
    "    ),\n",
    "    barmode='stack',\n",
    "    paper_bgcolor='rgb(248, 248, 255)',\n",
    "    plot_bgcolor='rgb(248, 248, 255)',\n",
    "    margin=dict(\n",
    "        l=120,\n",
    "        r=60,\n",
    "        t=140,\n",
    "        b=80\n",
    "    ),\n",
    "    showlegend=False,\n",
    "    title ='Gymnastics Medalist Top 10'\n",
    ")\n",
    "\n",
    "annotations = []\n",
    "\n",
    "for yd, xd in zip(country_name, country_data):\n",
    "    # labeling the y-axis\n",
    "    annotations.append(dict(xref='paper', yref='y',\n",
    "                            x=0.14, y=yd,\n",
    "                            xanchor='right',\n",
    "                            text=str(yd),\n",
    "                            font=dict(family='Arial', size=10,\n",
    "                                      color='rgb(67, 67, 67)'),\n",
    "                            showarrow=False, align='right'))\n",
    "    \n",
    "    # labeling the first percentage of each bar (x_axis)\n",
    "    annotations.append(dict(xref='x', yref='y',\n",
    "                            x=xd[0] / 2, y=yd,\n",
    "                            text=str(xd[0]),\n",
    "                            font=dict(family='Arial', size=10, #gold\n",
    "                                      color='rgb(248, 248, 255)'),\n",
    "                            showarrow=False))\n",
    "    \n",
    "    # labeling the first Likert scale (on the top)\n",
    "    if yd == country_name[-1]:\n",
    "        annotations.append(dict(xref='x', yref='paper',\n",
    "                                x=xd[0] / 2, y=1.1,\n",
    "                                text=top_labels[0],\n",
    "                                font=dict(family='Arial', size=10,\n",
    "                                          color='rgb(67, 67, 67)'),\n",
    "                                showarrow=False))\n",
    "    space = xd[0]\n",
    "    for i in range(1, len(xd)):\n",
    "            # labeling the rest of percentages for each bar (x_axis)\n",
    "            annotations.append(dict(xref='x', yref='y',\n",
    "                                    x=space + (xd[i]/2), y=yd, \n",
    "                                    text=str(xd[i]),\n",
    "                                    font=dict(family='Arial', size=10,\n",
    "                                              color='rgb(248, 248, 255)'),\n",
    "                                    showarrow=False))\n",
    "            # labeling the Likert scale\n",
    "            if yd == country_name[-1]:\n",
    "                annotations.append(dict(xref='x', yref='paper',\n",
    "                                        x=space + (xd[i]/2), y=1.1,\n",
    "                                        text=top_labels[i],\n",
    "                                        font=dict(family='Arial', size=10,\n",
    "                                                  color='rgb(67, 67, 67)'),\n",
    "                                        showarrow=False))\n",
    "            space += xd[i]\n",
    "\n",
    "layout['annotations'] = annotations\n",
    "\n",
    "fig = go.Figure(data=traces, layout=layout)\n",
    "py.iplot(fig, filename='Medal')"
   ]
  },
  {
   "cell_type": "code",
   "execution_count": null,
   "metadata": {
    "collapsed": true
   },
   "outputs": [],
   "source": [
    "Gym_labels = [\"Russia\",\"USA\",\"China\",\"Romania\",\"Japan\",\"Germany\",\"Other Countries\"]\n",
    "Gym_values = [140, 120, 109, 97, 59, 29, 101]\n",
    "Gym_colors = ['#FEBFB3', '#E1396C', '#96D38C', '#D0F9B1','#A8E23C','#E25896','#57D4C4']\n",
    "\n",
    "Gym_trace = go.Pie(labels=Gym_labels, values=Gym_values,\n",
    "               hoverinfo='label+percent', textinfo='value', \n",
    "               textfont=dict(size=20),\n",
    "               marker=dict(colors=Gym_colors, \n",
    "                           line=dict(color='#000000', width=2)))\n",
    "print('Gymnastics _medal_total')\n",
    "py.iplot([Gym_trace], filename='Gymnastics _medal_total')"
   ]
  },
  {
   "cell_type": "code",
   "execution_count": null,
   "metadata": {
    "collapsed": true
   },
   "outputs": [],
   "source": [
    "Gymnastics_fig= {\n",
    "  \"data\": [   \n",
    "    #Gold \n",
    "    {\n",
    "        #Russia: 56 China: 45 USA: 38 Romania: 35 Japan:16 Germany: 3 Others: 31\n",
    "      \"values\": [56, 38, 45, 35, 16, 3, 31],\n",
    "      \"labels\": [\"Russia\",\"USA\",\"China\",\"Romania\",\"Japan\",\"Germany\",\"Other Countries\"],\n",
    "      \"domain\": {\"x\": [0, .25]},\n",
    "      \"name\": \"Gold\",\n",
    "      \"hoverinfo\":\"label+percent+name\",\n",
    "      \"hole\": .2,\n",
    "      \"type\": \"pie\"\n",
    "    },\n",
    "    #Silver\n",
    "      #Russia: 48 USA: 48 China: 34  Romania: 25 Japan:18 Germany: 13 Others: 27\n",
    "      {\n",
    "      \"values\": [48, 48, 34, 25, 18, 13, 27],\n",
    "      \"labels\": [\"Russia\",\"USA\",\"China\",\"Romania\",\"Japan\",\"Germany\",\"Other Countries\"],\n",
    "      \"domain\": {\"x\": [.36, .61]},\n",
    "      \"name\": \"Silver\",\n",
    "      \"hoverinfo\":\"label+percent+name\",\n",
    "      \"hole\": .2,\n",
    "      \"type\": \"pie\"\n",
    "    },\n",
    "    #Bronze\n",
    "      #Romania: 37  Russia: 36 USA: 34 China: 30  Japan:25 Germany: 13 Others: 43\n",
    "      {\n",
    "      \"values\": [36, 34, 30,37, 25, 13,  43],\n",
    "      \"labels\": [\"Russia\",\"USA\",\"China\",\"Romania\",\"Japan\",\"Germany\",\"Other Countries\"],\n",
    "      \"domain\": {\"x\": [.71, .96]},\n",
    "      \"name\": \"Bronze\",\n",
    "      \"hoverinfo\":\"label+percent+name\",\n",
    "      \"hole\": .2,\n",
    "      \"type\": \"pie\"\n",
    "    },\n",
    "  ],\n",
    "  \"layout\": {\n",
    "        \"title\":\"Gymnastics Medals\",\n",
    "        \"annotations\": [\n",
    "            {\"font\": {\"size\": 15},\"showarrow\": False,\"text\": \"Gold\",\"x\": 0.05,\"y\": 1.0},\n",
    "            {\"font\": {\"size\": 15},\"showarrow\": False,\"text\": \"Silver\",\"x\": 0.5,\"y\": 1.0},\n",
    "            { \"font\": {\"size\": 15},\"showarrow\": False,\"text\": \"Bronze\",\"x\": .95,\"y\": 1.0}]\n",
    "    }\n",
    "}\n",
    "\n",
    "py.iplot(Gymnastics_fig, filename='donut_Gym')"
   ]
  },
  {
   "cell_type": "code",
   "execution_count": null,
   "metadata": {},
   "outputs": [],
   "source": []
  },
  {
   "cell_type": "markdown",
   "metadata": {},
   "source": [
    "## Swimming"
   ]
  },
  {
   "cell_type": "code",
   "execution_count": null,
   "metadata": {
    "collapsed": true
   },
   "outputs": [],
   "source": [
    "Swimming_Total= pd.DataFrame(olympicData[[\"region\", \"Sport\",\"Medal\"]]\n",
    "                     [olympicData['Year']>=1984]\n",
    "                     [(olympicData['Medal']=='Gold')|\n",
    "                            (olympicData['Medal']=='Silver')|\n",
    "                           (olympicData['Medal']=='Bronze')]\n",
    "                     [olympicData['Sport'] == 'Swimming'])\n",
    "\n",
    "Swimming_Gold= pd.DataFrame(olympicData[[\"region\", \"Sport\",\"Medal\"]]\n",
    "                     [olympicData['Year']>=1984]\n",
    "                     [olympicData['Medal']=='Gold']\n",
    "                     [olympicData['Sport'] == 'Swimming'])\n",
    "\n",
    "Swimming_Silver= pd.DataFrame(olympicData[[\"region\", \"Sport\",\"Medal\"]]\n",
    "                     [olympicData['Year']>=1984]\n",
    "                     [olympicData['Medal']=='Silver']\n",
    "                     [olympicData['Sport'] == 'Swimming'])\n",
    "\n",
    "Swimming_Bronze= pd.DataFrame(olympicData[[\"region\", \"Sport\",\"Medal\"]]\n",
    "                     [olympicData['Year']>=1984]\n",
    "                     [olympicData['Medal']=='Bronze']\n",
    "                     [olympicData['Sport'] == 'Swimming'])"
   ]
  },
  {
   "cell_type": "code",
   "execution_count": null,
   "metadata": {
    "collapsed": true
   },
   "outputs": [],
   "source": [
    "Swimming_Total.region.value_counts().reset_index(name='TotalMedal')\n",
    "#USA: 562 Australia: 252 Germany: 163 Russia:94  China: 70 Netherlands 65 \n",
    "#Canada: 55 Japan: 55 France: 54 Others: 254"
   ]
  },
  {
   "cell_type": "code",
   "execution_count": null,
   "metadata": {
    "collapsed": true
   },
   "outputs": [],
   "source": [
    "Swimming_labels = [\"USA\",\"Australia\",\"Germany\",\"Russia\",\"China\",\n",
    "                             \"Netherlands\", \"Canada\", \"Japan\", \"France\",\"Other Countries\"]\n",
    "Swimming_values = [562, 252, 163, 94, 70, \n",
    "                             65,55,55,54,254]\n",
    "Swimming_colors = ['#FEBFB3', '#E1396C', '#96D38C', '#D0F9B1','#A8E23C',\n",
    "                             '#E25896','#57D4C4','#A1A370', '08237E', 'B2C353']\n",
    "\n",
    "Swimming_trace = go.Pie(labels=Swimming_labels, values=Swimming_values,\n",
    "               hoverinfo='label+percent', textinfo='value', \n",
    "               textfont=dict(size=20),\n",
    "               marker=dict(colors=Gym_colors, \n",
    "                           line=dict(color='#000000', width=2)))\n",
    "\n",
    "py.iplot([Swimming_trace], filename='Swimming _medal_total')"
   ]
  },
  {
   "cell_type": "code",
   "execution_count": null,
   "metadata": {},
   "outputs": [],
   "source": [
    "#Choose the top 10 countries to analysize\n",
    "#USA: 562 Australia: 252 Germany: 163 Russia:94  China: 70 Netherlands 65 \n",
    "#Canada: 55 Japan: 55 France: 54 UK 38\n",
    "\n",
    "top_labels = ['Gold', 'Silver', 'Bronze']\n",
    "\n",
    "colors = [ 'rgba(232, 152,114,0.9)','rgba(247,204,116,0.9)','rgba(236,152,140,0.9)']\n",
    "\n",
    "country_data = [\n",
    "                       [4,18,16],#UK\n",
    "                       [11,24,19],#France\n",
    "                       [9,11,35],#Japan\n",
    "                       [6,13,36],#Canada\n",
    "                       [20,27,18],#Netherlands\n",
    "                       [13,34,23],#China\n",
    "                       [18,45, 31], #Russia\n",
    "                       [27,48, 88],#Germany\n",
    "                       [70, 103, 79],#Australia\n",
    "                       [343, 136, 83]#USA\n",
    "                       ]\n",
    "\n",
    "country_name = ['UK','France','Japan','Canada', \n",
    "                        'Netherlands','China','Russia','Germany','Austrialia','USA']\n",
    "\n",
    "\n",
    "traces = []\n",
    "\n",
    "for i in range(0, len(country_data[0])):\n",
    "    for xd, yd in zip(country_data, country_name):\n",
    "        traces.append(go.Bar(\n",
    "            x=[xd[i]],\n",
    "            y=[yd],\n",
    "            orientation='h',\n",
    "            marker=dict(\n",
    "                color=colors[i],\n",
    "                line=dict(\n",
    "                        color='rgb(248, 248, 249)',\n",
    "                        width=1)\n",
    "            )\n",
    "        ))\n",
    "\n",
    "layout = go.Layout(\n",
    "    xaxis=dict(\n",
    "        showgrid=False,\n",
    "        showline=False,\n",
    "        showticklabels=False,\n",
    "        zeroline=False,\n",
    "        domain=[0.15, 1]\n",
    "    ),\n",
    "    yaxis=dict(\n",
    "        showgrid=False,\n",
    "        showline=False,\n",
    "        showticklabels=False,\n",
    "        zeroline=False,\n",
    "    ),\n",
    "    barmode='stack',\n",
    "    paper_bgcolor='rgb(248, 248, 255)',\n",
    "    plot_bgcolor='rgb(248, 248, 255)',\n",
    "    margin=dict(\n",
    "        l=120,\n",
    "        r=60,\n",
    "        t=140,\n",
    "        b=80\n",
    "    ),\n",
    "    showlegend=False,\n",
    "    title ='Swimming Medal Top 10'\n",
    ")\n",
    "\n",
    "annotations = []\n",
    "\n",
    "for yd, xd in zip(country_name, country_data):\n",
    "    # labeling the y-axis\n",
    "    annotations.append(dict(xref='paper', yref='y',\n",
    "                            x=0.14, y=yd,\n",
    "                            xanchor='right',\n",
    "                            text=str(yd),\n",
    "                            font=dict(family='Arial', size=10,\n",
    "                                      color='rgb(67, 67, 67)'),\n",
    "                            showarrow=False, align='right'))\n",
    "    \n",
    "    # labeling the first percentage of each bar (x_axis)\n",
    "    annotations.append(dict(xref='x', yref='y',\n",
    "                            x=xd[0] / 2, y=yd,\n",
    "                            text=str(xd[0]),\n",
    "                            font=dict(family='Arial', size=5, #gold\n",
    "                                      color='rgb(248, 248, 255)'),\n",
    "                            showarrow=False))\n",
    "    \n",
    "    # labeling the first Likert scale (on the top)\n",
    "    if yd == country_name[-1]:\n",
    "        annotations.append(dict(xref='x', yref='paper',\n",
    "                                x=xd[0] / 2, y=1.1,\n",
    "                                text=top_labels[0],\n",
    "                                font=dict(family='Arial', size=10,\n",
    "                                          color='rgb(67, 67, 67)'),\n",
    "                                showarrow=False))\n",
    "    space = xd[0]\n",
    "    for i in range(1, len(xd)):\n",
    "            # labeling the rest of percentages for each bar (x_axis)\n",
    "            annotations.append(dict(xref='x', yref='y',\n",
    "                                    x=space + (xd[i]/2), y=yd, \n",
    "                                    text=str(xd[i]),\n",
    "                                    font=dict(family='Arial', size=5,\n",
    "                                              color='rgb(248, 248, 255)'),\n",
    "                                    showarrow=False))\n",
    "            # labeling the Likert scale\n",
    "            if yd == country_name[-1]:\n",
    "                annotations.append(dict(xref='x', yref='paper',\n",
    "                                        x=space + (xd[i]/2), y=1.1,\n",
    "                                        text=top_labels[i],\n",
    "                                        font=dict(family='Arial', size=5,\n",
    "                                                  color='rgb(67, 67, 67)'),\n",
    "                                        showarrow=False))\n",
    "            space += xd[i]\n",
    "\n",
    "layout['annotations'] = annotations\n",
    "\n",
    "fig = go.Figure(data=traces, layout=layout)\n",
    "py.iplot(fig, filename='Medal')"
   ]
  },
  {
   "cell_type": "code",
   "execution_count": null,
   "metadata": {
    "collapsed": true
   },
   "outputs": [],
   "source": [
    "Swimming_Gold.region.value_counts().reset_index(name='Gold')\n",
    "#USA: 343 Australia: 70 Germany: 27 Netherlands 20  Russia: 18 China: 13 Canada: 6\n",
    "#Others: 85"
   ]
  },
  {
   "cell_type": "code",
   "execution_count": null,
   "metadata": {
    "collapsed": true
   },
   "outputs": [],
   "source": [
    "Swimming_Silver.region.value_counts().reset_index(name='Silver')\n",
    "#USA: 136 Australia: 103 Germany: 48 Russia: 45 China: 34 Netherlands 27 Canada: 13\n",
    "#Others: 126"
   ]
  },
  {
   "cell_type": "code",
   "execution_count": null,
   "metadata": {
    "collapsed": true
   },
   "outputs": [],
   "source": [
    "Swimming_Bronze.region.value_counts().reset_index(name='Bronze')\n",
    "#Germany: 88 USA: 83 Australia:79  Canada: 36 Russia: 31 China: 23 Netherlands: 18 \n",
    "#Others: 152"
   ]
  },
  {
   "cell_type": "code",
   "execution_count": null,
   "metadata": {
    "collapsed": true
   },
   "outputs": [],
   "source": [
    "Swimming_fig= {\n",
    "  \"data\": [   \n",
    "    #Gold \n",
    "    {\n",
    "      #USA: 343 Australia: 70 Germany: 27 Netherlands 20  Russia: 18 China: 13 Canada: 6 Others: 85\n",
    "      \"values\": [343, 70, 27, 20, 18, 13,6,85],\n",
    "      \"labels\": [\"USA\",\"Australia\",\"Germany\",\"Netherlands\",\"Russia\",\"China\",\"Canada\",\"Other Countries\"],\n",
    "      \"domain\": {\"x\": [0, .25]},\n",
    "      \"name\": \"Gold\",\n",
    "      \"hoverinfo\":\"label+percent+name\",\n",
    "      \"hole\": .2,\n",
    "      \"type\": \"pie\"\n",
    "    },\n",
    "    #Silver\n",
    "      #USA: 136 Australia: 103 Germany: 48 Russia: 45 China: 34 Netherlands 27 Canada: 13 Others: 126\n",
    "      {\n",
    "      \"values\": [136, 103, 48, 27, 45, 34, 13,126],\n",
    "      \"labels\": [\"USA\",\"Australia\",\"Germany\",\"Netherlands\",\"Russia\",\"China\",\"Canada\",\"Other Countries\"],\n",
    "      \"domain\": {\"x\": [.36, .61]},\n",
    "      \"name\": \"Silver\",\n",
    "      \"hoverinfo\":\"label+percent+name\",\n",
    "      \"hole\": .2,\n",
    "      \"type\": \"pie\"\n",
    "    },\n",
    "    #Bronze\n",
    "      #Germany: 88 USA: 83 Australia:79  Canada: 36 Russia: 31 China: 23 Netherlands: 18Others: 152\n",
    "      {\n",
    "      \"values\": [83, 79, 88,18, 31, 23, 36, 152],\n",
    "      \"labels\": [\"USA\",\"Australia\",\"Germany\",\"Netherlands\",\"Russia\",\"China\",\"Canada\",\"Other Countries\"],\n",
    "      \"domain\": {\"x\": [.71, .96]},\n",
    "      \"name\": \"Bronze\",\n",
    "      \"hoverinfo\":\"label+percent+name\",\n",
    "      \"hole\": .2,\n",
    "      \"type\": \"pie\"\n",
    "    },\n",
    "  ],\n",
    "  \"layout\": {\n",
    "        \"title\":\"Swimming Medals\",\n",
    "        \"annotations\": [\n",
    "            {\"font\": {\"size\": 15},\"showarrow\": False,\"text\": \"Gold\",\"x\": 0.05,\"y\": 1.0},\n",
    "            {\"font\": {\"size\": 15},\"showarrow\": False,\"text\": \"Silver\",\"x\": 0.5,\"y\": 1.0},\n",
    "            { \"font\": {\"size\": 15},\"showarrow\": False,\"text\": \"Bronze\",\"x\": .95,\"y\": 1.0}]\n",
    "    }\n",
    "}\n",
    "py.iplot(Swimming_fig, filename='donut_Swimming')"
   ]
  },
  {
   "cell_type": "code",
   "execution_count": null,
   "metadata": {},
   "outputs": [],
   "source": []
  },
  {
   "cell_type": "code",
   "execution_count": null,
   "metadata": {},
   "outputs": [],
   "source": []
  },
  {
   "cell_type": "code",
   "execution_count": null,
   "metadata": {},
   "outputs": [],
   "source": []
  },
  {
   "cell_type": "code",
   "execution_count": null,
   "metadata": {},
   "outputs": [],
   "source": []
  },
  {
   "cell_type": "code",
   "execution_count": null,
   "metadata": {},
   "outputs": [],
   "source": []
  },
  {
   "cell_type": "code",
   "execution_count": null,
   "metadata": {},
   "outputs": [],
   "source": []
  },
  {
   "cell_type": "code",
   "execution_count": null,
   "metadata": {},
   "outputs": [],
   "source": []
  }
 ],
 "metadata": {
  "kernelspec": {
   "display_name": "Python 3",
   "language": "python",
   "name": "python3"
  },
  "language_info": {
   "codemirror_mode": {
    "name": "ipython",
    "version": 3
   },
   "file_extension": ".py",
   "mimetype": "text/x-python",
   "name": "python",
   "nbconvert_exporter": "python",
   "pygments_lexer": "ipython3",
   "version": "3.7.1"
  }
 },
 "nbformat": 4,
 "nbformat_minor": 2
}