{
 "cells": [
  {
   "cell_type": "markdown",
   "metadata": {},
   "source": [
    "# Olympics"
   ]
  },
  {
   "cell_type": "code",
   "execution_count": null,
   "metadata": {},
   "outputs": [],
   "source": [
    "# Basic Libraries\n",
    "import numpy as np\n",
    "import pandas as pd\n",
    "import seaborn as sb\n",
    "import matplotlib.pyplot as plt # we only need pyplot\n",
    "sb.set() # set the default Seaborn style for graphics\n",
    "import plotly \n",
    "plotly.tools.set_credentials_file(username='yang_yubei0218', api_key='qK2K9JiG0JNj045lTh7t')\n",
    "import plotly.plotly as py\n",
    "import plotly.graph_objs as go"
   ]
  },
  {
   "cell_type": "code",
   "execution_count": null,
   "metadata": {},
   "outputs": [],
   "source": [
    "olympic = pd.read_csv('/Users/yangyubei/Desktop/1015project/120-years-of-olympic-history-athletes-and-results/athlete_events.csv')\n",
    "\n",
    "regions = pd.read_csv('/Users/yangyubei/Desktop/1015project/120-years-of-olympic-history-athletes-and-results/noc_regions.csv')"
   ]
  },
  {
   "cell_type": "markdown",
   "metadata": {},
   "source": [
    "More such Statistical Graphics are demonstrated at https://plot.ly/python/statistical-charts/\n",
    "Basic charts and plots by Plotly are demostrated at https://plot.ly/python/basic-charts/\n",
    "Fundamental components of Plotly are illustrated at https://plot.ly/python/plotly-fundamentals/"
   ]
  },
  {
   "cell_type": "markdown",
   "metadata": {},
   "source": [
    "## Data Frame"
   ]
  },
  {
   "cell_type": "code",
   "execution_count": null,
   "metadata": {},
   "outputs": [],
   "source": [
    "#merged the two dataset\n",
    "olympicData = pd.merge(olympic, regions, on='NOC', how='left')"
   ]
  },
  {
   "cell_type": "code",
   "execution_count": null,
   "metadata": {
    "collapsed": true
   },
   "outputs": [],
   "source": [
    "olympicData.info()"
   ]
  },
  {
   "cell_type": "markdown",
   "metadata": {},
   "source": [
    "### CountryData"
   ]
  },
  {
   "cell_type": "code",
   "execution_count": null,
   "metadata": {},
   "outputs": [],
   "source": [
    "CountryData = pd.DataFrame(olympicData[[\"region\", \"Year\",'Sex']])"
   ]
  },
  {
   "cell_type": "code",
   "execution_count": null,
   "metadata": {
    "collapsed": true
   },
   "outputs": [],
   "source": [
    "CountryData.head()"
   ]
  },
  {
   "cell_type": "code",
   "execution_count": null,
   "metadata": {
    "collapsed": true
   },
   "outputs": [],
   "source": [
    "#extract the data from 1984\n",
    "CountryData_1984_M = pd.DataFrame(olympicData[[\"region\", \"Year\",\"Sex\"]]\n",
    "                                  [olympicData['Year']>=1984][olympicData['Sex']=='M'])\n",
    "CountryData_1984_F = pd.DataFrame(olympicData[[\"region\", \"Year\",\"Sex\"]]\n",
    "                                  [olympicData['Year']>=1984][olympicData['Sex']=='F'])"
   ]
  },
  {
   "cell_type": "markdown",
   "metadata": {},
   "source": [
    "### Medal Data"
   ]
  },
  {
   "cell_type": "code",
   "execution_count": null,
   "metadata": {},
   "outputs": [],
   "source": [
    "MedalData = pd.DataFrame(olympicData[[\"region\", \"Year\",'Medal']])"
   ]
  },
  {
   "cell_type": "code",
   "execution_count": null,
   "metadata": {
    "collapsed": true
   },
   "outputs": [],
   "source": [
    "MedalData.head()"
   ]
  },
  {
   "cell_type": "code",
   "execution_count": null,
   "metadata": {
    "collapsed": true
   },
   "outputs": [],
   "source": [
    "#extract the data from 1984\n",
    "TotalMedal = pd.DataFrame(olympicData[[\"region\", \"Year\",\"Sex\"]]\n",
    "                          [olympicData['Year']>=1984]\n",
    "                          [(olympicData['Medal']=='Gold')|\n",
    "                            (olympicData['Medal']=='Silver')|\n",
    "                           (olympicData['Medal']=='Bronze')])\n",
    "Gold = pd.DataFrame(olympicData[[\"region\", \"Year\",\"Sex\"]]\n",
    "                                  [olympicData['Year']>=1984][olympicData['Medal']=='Gold'])\n",
    "Silver = pd.DataFrame(olympicData[[\"region\", \"Year\",\"Sex\"]]\n",
    "                                  [olympicData['Year']>=1984][olympicData['Medal']=='Silver'])\n",
    "Bronze = pd.DataFrame(olympicData[[\"region\", \"Year\",\"Sex\"]]\n",
    "                                  [olympicData['Year']>=1984][olympicData['Medal']=='Bronze'])\n",
    "NoMedal =pd.DataFrame(olympicData[[\"region\", \"Year\",\"Sex\"]]\n",
    "                          [olympicData['Year']>=1984]\n",
    "                          [(olympicData['Medal']!='Gold')&\n",
    "                            (olympicData['Medal']!='Silver')&\n",
    "                           (olympicData['Medal']!='Bronze')])"
   ]
  },
  {
   "cell_type": "code",
   "execution_count": null,
   "metadata": {},
   "outputs": [],
   "source": []
  },
  {
   "cell_type": "markdown",
   "metadata": {},
   "source": [
    "### Medal Variation Along the Years of the top5"
   ]
  },
  {
   "cell_type": "markdown",
   "metadata": {},
   "source": [
    "#### USA"
   ]
  },
  {
   "cell_type": "code",
   "execution_count": null,
   "metadata": {
    "collapsed": true
   },
   "outputs": [],
   "source": [
    "USA_Gold = pd.DataFrame(olympicData[[\"region\", \"Year\",\"Sex\"]]\n",
    "                          [olympicData['region']=='USA']\n",
    "                          [olympicData['Year']>=1984]\n",
    "                          [olympicData['Medal']=='Gold'])\n",
    "USA_Silver = pd.DataFrame(olympicData[[\"region\", \"Year\",\"Sex\"]]\n",
    "                          [olympicData['region']=='USA']\n",
    "                          [olympicData['Year']>=1984]\n",
    "                          [olympicData['Medal']=='Silver'])\n",
    "USA_Bronze = pd.DataFrame(olympicData[[\"region\", \"Year\",\"Sex\"]]\n",
    "                          [olympicData['region']=='USA']\n",
    "                          [olympicData['Year']>=1984]\n",
    "                          [olympicData['Medal']=='Bronze'])\n",
    "\n",
    "USA_Male = pd.DataFrame(olympicData[[\"region\", \"Year\",\"Sex\"]]\n",
    "                          [olympicData['region']=='USA']\n",
    "                          [olympicData['Year']>=1984]\n",
    "                          [(olympicData['Medal']=='Gold')|\n",
    "                            (olympicData['Medal']=='Silver')|\n",
    "                           (olympicData['Medal']=='Bronze')]\n",
    "                          [olympicData['Sex']=='M'])\n",
    "USA_Female = pd.DataFrame(olympicData[[\"region\", \"Year\",\"Sex\"]]\n",
    "                          [olympicData['region']=='USA']\n",
    "                          [olympicData['Year']>=1984]\n",
    "                          [(olympicData['Medal']=='Gold')|\n",
    "                            (olympicData['Medal']=='Silver')|\n",
    "                           (olympicData['Medal']=='Bronze')]\n",
    "                          [olympicData['Sex']=='F'])"
   ]
  },
  {
   "cell_type": "code",
   "execution_count": null,
   "metadata": {
    "collapsed": true
   },
   "outputs": [],
   "source": [
    "USA_Gold.Year.value_counts().reset_index(name='GoldMedal')"
   ]
  },
  {
   "cell_type": "code",
   "execution_count": null,
   "metadata": {
    "collapsed": true
   },
   "outputs": [],
   "source": [
    "USA_Silver.Year.value_counts().reset_index(name='SilverMedal')"
   ]
  },
  {
   "cell_type": "code",
   "execution_count": null,
   "metadata": {
    "collapsed": true
   },
   "outputs": [],
   "source": [
    "USA_Bronze.Year.value_counts().reset_index(name='BronzeMedal')"
   ]
  },
  {
   "cell_type": "code",
   "execution_count": null,
   "metadata": {
    "collapsed": true
   },
   "outputs": [],
   "source": [
    "USA_Male.Year.value_counts().reset_index(name='Male')"
   ]
  },
  {
   "cell_type": "code",
   "execution_count": null,
   "metadata": {
    "collapsed": true
   },
   "outputs": [],
   "source": [
    "USA_Female.Year.value_counts().reset_index(name='Female')"
   ]
  },
  {
   "cell_type": "code",
   "execution_count": null,
   "metadata": {
    "collapsed": true
   },
   "outputs": [],
   "source": [
    "Year = ['1984', '1988', '1992', '1996', '2000', '2004', '2008','2012']\n",
    "USA_G = [190,   89,     94,     159,     130,    117,      127,    145]\n",
    "USA_S = [121,    67,     57,      48,      61,     75,       110,     57]\n",
    "USA_B = [50,     58,    87,      52,       51,     71,       80,      46]\n",
    "\n",
    "USA_trace_G = go.Scatter(\n",
    "    x = Year,\n",
    "    y = USA_G,\n",
    "    name = 'Gold',\n",
    "    line = dict(\n",
    "        color = ('rgb(0,100,80)'),\n",
    "        width = 4)\n",
    ")\n",
    "USA_trace_S = go.Scatter(\n",
    "    x = Year,\n",
    "    y = USA_S,\n",
    "    name = 'Silver',\n",
    "    line = dict(\n",
    "        color = ('rgb(0,176,246)'),\n",
    "        width = 4)\n",
    ")\n",
    "USA_trace_B = go.Scatter(\n",
    "    x = Year,\n",
    "    y = USA_B,\n",
    "    name = 'Bronze',\n",
    "    line = dict(\n",
    "        color = ('rgb(231,107,243)'),\n",
    "        width = 4) # dash options include 'dash', 'dot', and 'dashdot'\n",
    ")\n",
    "USA_trace_Medal = [USA_trace_G, USA_trace_S, USA_trace_B]\n",
    "\n",
    "# Edit the layout\n",
    "USA_trace_Medal_layout = dict(title = 'USA Medalist 1984-2014',\n",
    "              xaxis = dict(title = 'Year'),\n",
    "              yaxis = dict(title = 'Medal'),\n",
    "              )\n",
    "\n",
    "fig_USA_Medal= dict(data=USA_trace_Medal, layout=USA_trace_Medal_layout )\n",
    "py.iplot(fig_USA_Medal, filename='USA Medalist 1984-2014')"
   ]
  },
  {
   "cell_type": "code",
   "execution_count": null,
   "metadata": {},
   "outputs": [],
   "source": [
    "#'1984', '1988', '1992', '1996', '2000', '2004', '2008','2012'\n",
    "USA_M = [217,   143,     125,     132,     118,    117,      155,    88]\n",
    "USA_F = [144,    71,     113,      127,      124,     146,      162,     160]\n",
    "USA_trace_M = go.Scatter(\n",
    "    x = Year,\n",
    "    y = USA_M,\n",
    "    name = 'Male',\n",
    "    line = dict(\n",
    "        color = ('rgb(109, 159, 173)'),\n",
    "        width = 4)\n",
    ")\n",
    "USA_trace_F = go.Scatter(\n",
    "    x = Year,\n",
    "    y = USA_F,\n",
    "    name = 'Female',\n",
    "    line = dict(\n",
    "        color = ('rgb(217,169,155)'),\n",
    "        width = 4)\n",
    ")\n",
    "USA_trace_Sex = [USA_trace_M, USA_trace_F]\n",
    "\n",
    "# Edit the layout\n",
    "USA_trace_Sex_layout = dict(title = 'USA Male-Female Medalist 1984-2014',\n",
    "              xaxis = dict(title = 'Year'),\n",
    "              yaxis = dict(title = 'Sex'),\n",
    "              )\n",
    "\n",
    "fig_USA_Sex = dict(data=USA_trace_Sex, layout=USA_trace_Sex_layout )\n",
    "py.iplot(fig_USA_Sex, filename='USA Sex Medalist 1984-2014')"
   ]
  },
  {
   "cell_type": "markdown",
   "metadata": {},
   "source": [
    "#### Russia"
   ]
  },
  {
   "cell_type": "code",
   "execution_count": null,
   "metadata": {
    "collapsed": true
   },
   "outputs": [],
   "source": [
    "Russia_Gold = pd.DataFrame(olympicData[[\"region\", \"Year\",\"Sex\"]]\n",
    "                          [olympicData['region']=='Russia']\n",
    "                          [olympicData['Year']>=1984]\n",
    "                          [olympicData['Medal']=='Gold'])\n",
    "Russia_Silver = pd.DataFrame(olympicData[[\"region\", \"Year\",\"Sex\"]]\n",
    "                          [olympicData['region']=='Russia']\n",
    "                          [olympicData['Year']>=1984]\n",
    "                          [olympicData['Medal']=='Silver'])\n",
    "Russia_Bronze = pd.DataFrame(olympicData[[\"region\", \"Year\",\"Sex\"]]\n",
    "                          [olympicData['region']=='Russia']\n",
    "                          [olympicData['Year']>=1984]\n",
    "                          [olympicData['Medal']=='Bronze'])\n",
    "\n",
    "Russia_Male = pd.DataFrame(olympicData[[\"region\", \"Year\",\"Sex\"]]\n",
    "                          [olympicData['region']=='Russia']\n",
    "                          [olympicData['Year']>=1984]\n",
    "                          [(olympicData['Medal']=='Gold')|\n",
    "                            (olympicData['Medal']=='Silver')|\n",
    "                           (olympicData['Medal']=='Bronze')]\n",
    "                          [olympicData['Sex']=='M'])\n",
    "Russia_Female = pd.DataFrame(olympicData[[\"region\", \"Year\",\"Sex\"]]\n",
    "                          [olympicData['region']=='Russia']\n",
    "                          [olympicData['Year']>=1984]\n",
    "                          [(olympicData['Medal']=='Gold')|\n",
    "                            (olympicData['Medal']=='Silver')|\n",
    "                           (olympicData['Medal']=='Bronze')]\n",
    "                          [olympicData['Sex']=='F'])"
   ]
  },
  {
   "cell_type": "code",
   "execution_count": null,
   "metadata": {
    "collapsed": true
   },
   "outputs": [],
   "source": [
    "Russia_Gold.Year.value_counts().reset_index(name='GoldMedal')"
   ]
  },
  {
   "cell_type": "code",
   "execution_count": null,
   "metadata": {
    "collapsed": true
   },
   "outputs": [],
   "source": [
    "Russia_Silver.Year.value_counts().reset_index(name='SilverMedal')"
   ]
  },
  {
   "cell_type": "code",
   "execution_count": null,
   "metadata": {
    "collapsed": true
   },
   "outputs": [],
   "source": [
    "Russia_Bronze.Year.value_counts().reset_index(name='Bronze')"
   ]
  },
  {
   "cell_type": "code",
   "execution_count": null,
   "metadata": {
    "collapsed": true
   },
   "outputs": [],
   "source": [
    "Year = ['1984', '1988', '1992', '1996', '2000', '2004', '2008','2012']\n",
    "Russia_G = [29,   174,    127,     36,     66,    48,      43,    50]\n",
    "Russia_S = [15,    81,     71,      45,      67,     46,       46,     39]\n",
    "Russia_B = [12,     111,    81,      34,       54,     95,       53,      51]\n",
    "\n",
    "Russia_trace_G = go.Scatter(\n",
    "    x = Year,\n",
    "    y = Russia_G,\n",
    "    name = 'Gold',\n",
    "    line = dict(\n",
    "        color = ('rgb(0,100,80)'),\n",
    "        width = 4)\n",
    ")\n",
    "Russia_trace_S = go.Scatter(\n",
    "    x = Year,\n",
    "    y = Russia_S,\n",
    "    name = 'Silver',\n",
    "    line = dict(\n",
    "        color = ('rgb(0,176,246)'),\n",
    "        width = 4)\n",
    ")\n",
    "Russia_trace_B = go.Scatter(\n",
    "    x = Year,\n",
    "    y = Russia_B,\n",
    "    name = 'Bronze',\n",
    "    line = dict(\n",
    "        color = ('rgb(231,107,243)'),\n",
    "        width = 4) # dash options include 'dash', 'dot', and 'dashdot'\n",
    ")\n",
    "Russia_trace_Medal = [Russia_trace_G, Russia_trace_S, Russia_trace_B]\n",
    "\n",
    "# Edit the layout\n",
    "Russia_trace_Medal_layout = dict(title = 'Russia Medalist 1984-2014',\n",
    "              xaxis = dict(title = 'Year'),\n",
    "              yaxis = dict(title = 'Medal'),\n",
    "              )\n",
    "\n",
    "fig_Russia_Medal= dict(data=Russia_trace_Medal, layout=Russia_trace_Medal_layout )\n",
    "py.iplot(fig_Russia_Medal, filename='Russia Medalist 1984-2014')"
   ]
  },
  {
   "cell_type": "code",
   "execution_count": null,
   "metadata": {
    "collapsed": true
   },
   "outputs": [],
   "source": [
    "Russia_Male.Year.value_counts().reset_index(name='Male')"
   ]
  },
  {
   "cell_type": "code",
   "execution_count": null,
   "metadata": {
    "collapsed": true
   },
   "outputs": [],
   "source": [
    "Russia_Female.Year.value_counts().reset_index(name='Female')"
   ]
  },
  {
   "cell_type": "code",
   "execution_count": null,
   "metadata": {
    "collapsed": true
   },
   "outputs": [],
   "source": [
    "            #'1984', '1988', '1992', '1996', '2000', '2004', '2008','2012'\n",
    "Russia_M = [46,   263,     162,     84,     98,    98, 60 ,68]\n",
    "Russia_F = [10,    103,     117,      31,      89,     91,      82,     72]\n",
    "Russia_trace_M = go.Scatter(\n",
    "    x = Year,\n",
    "    y = Russia_M,\n",
    "    name = 'Male',\n",
    "    line = dict(\n",
    "        color = ('rgb(109, 159, 173)'),\n",
    "        width = 4)\n",
    ")\n",
    "Russia_trace_F = go.Scatter(\n",
    "    x = Year,\n",
    "    y = Russia_F,\n",
    "    name = 'Female',\n",
    "    line = dict(\n",
    "        color = ('rgb(217,169,155)'),\n",
    "        width = 4)\n",
    ")\n",
    "Russia_trace_Sex = [Russia_trace_M, Russia_trace_F]\n",
    "\n",
    "# Edit the layout\n",
    "Russia_trace_Sex_layout = dict(title = 'Russia Male-FemaleMedalist 1984-2014',\n",
    "              xaxis = dict(title = 'Year'),\n",
    "              yaxis = dict(title = 'Sex'),\n",
    "              )\n",
    "\n",
    "fig_Russia_Sex = dict(data=Russia_trace_Sex, layout=Russia_trace_Sex_layout )\n",
    "py.iplot(fig_Russia_Sex, filename='Russia Sex Medalist 1984-2014')"
   ]
  },
  {
   "cell_type": "markdown",
   "metadata": {},
   "source": [
    "#### Germany "
   ]
  },
  {
   "cell_type": "code",
   "execution_count": null,
   "metadata": {
    "collapsed": true
   },
   "outputs": [],
   "source": [
    "Germany_Gold = pd.DataFrame(olympicData[[\"region\", \"Year\",\"Sex\"]]\n",
    "                          [olympicData['region']=='Germany']\n",
    "                          [olympicData['Year']>=1984]\n",
    "                          [olympicData['Medal']=='Gold'])\n",
    "Germany_Silver = pd.DataFrame(olympicData[[\"region\", \"Year\",\"Sex\"]]\n",
    "                          [olympicData['region']=='Germany']\n",
    "                          [olympicData['Year']>=1984]\n",
    "                          [olympicData['Medal']=='Silver'])\n",
    "Germany_Bronze = pd.DataFrame(olympicData[[\"region\", \"Year\",\"Sex\"]]\n",
    "                          [olympicData['region']=='Germany']\n",
    "                          [olympicData['Year']>=1984]\n",
    "                          [olympicData['Medal']=='Bronze'])\n",
    "\n",
    "Germany_Male = pd.DataFrame(olympicData[[\"region\", \"Year\",\"Sex\"]]\n",
    "                          [olympicData['region']=='Germany']\n",
    "                          [olympicData['Year']>=1984]\n",
    "                          [(olympicData['Medal']=='Gold')|\n",
    "                            (olympicData['Medal']=='Silver')|\n",
    "                           (olympicData['Medal']=='Bronze')]\n",
    "                          [olympicData['Sex']=='M'])\n",
    "Germany_Female = pd.DataFrame(olympicData[[\"region\", \"Year\",\"Sex\"]]\n",
    "                          [olympicData['region']=='Germany']\n",
    "                          [olympicData['Year']>=1984]\n",
    "                          [(olympicData['Medal']=='Gold')|\n",
    "                            (olympicData['Medal']=='Silver')|\n",
    "                           (olympicData['Medal']=='Bronze')]\n",
    "                          [olympicData['Sex']=='F'])"
   ]
  },
  {
   "cell_type": "code",
   "execution_count": null,
   "metadata": {
    "collapsed": true
   },
   "outputs": [],
   "source": [
    "Germany_Gold.Year.value_counts().reset_index(name='GoldMedal')"
   ]
  },
  {
   "cell_type": "code",
   "execution_count": null,
   "metadata": {
    "collapsed": true
   },
   "outputs": [],
   "source": [
    "Germany_Silver.Year.value_counts().reset_index(name='SilverMedal')"
   ]
  },
  {
   "cell_type": "code",
   "execution_count": null,
   "metadata": {
    "collapsed": true
   },
   "outputs": [],
   "source": [
    "Germany_Bronze.Year.value_counts().reset_index(name='BronzeMedal')"
   ]
  },
  {
   "cell_type": "code",
   "execution_count": null,
   "metadata": {
    "collapsed": true
   },
   "outputs": [],
   "source": [
    "Year = ['1984', '1988', '1992', '1996', '2000', '2004', '2008','2012']\n",
    "Germany_G = [46,   125,    95,     42,     31,    41,      42,    45]\n",
    "Germany_S = [89,    113,    74,      35,      23,     45,       16,     27]\n",
    "Germany_B = [64,     104,    67,    47,       64,     63,       41,      22]\n",
    "\n",
    "Germany_trace_G = go.Scatter(\n",
    "    x = Year,\n",
    "    y = Germany_G,\n",
    "    name = 'Gold',\n",
    "    line = dict(\n",
    "        color = ('rgb(0,100,80)'),\n",
    "        width = 4)\n",
    ")\n",
    "Germany_trace_S = go.Scatter(\n",
    "    x = Year,\n",
    "    y = Germany_S,\n",
    "    name = 'Silver',\n",
    "    line = dict(\n",
    "        color = ('rgb(0,176,246)'),\n",
    "        width = 4)\n",
    ")\n",
    "Germany_trace_B = go.Scatter(\n",
    "    x = Year,\n",
    "    y = Germany_B,\n",
    "    name = 'Bronze',\n",
    "    line = dict(\n",
    "        color = ('rgb(231,107,243)'),\n",
    "        width = 4) # dash options include 'dash', 'dot', and 'dashdot'\n",
    ")\n",
    "Germany_trace_Medal = [Germany_trace_G, Germany_trace_S, Germany_trace_B]\n",
    "\n",
    "# Edit the layout\n",
    "Germany_trace_Medal_layout = dict(title = 'Germany Medalist 1984-2014',\n",
    "              xaxis = dict(title = 'Year'),\n",
    "              yaxis = dict(title = 'Medal'),\n",
    "              )\n",
    "\n",
    "fig_Germany_Medal= dict(data=Germany_trace_Medal, layout=Germany_trace_Medal_layout )\n",
    "py.iplot(fig_Germany_Medal, filename='Germany Medalist 1984-2014')"
   ]
  },
  {
   "cell_type": "code",
   "execution_count": null,
   "metadata": {
    "collapsed": true
   },
   "outputs": [],
   "source": [
    "Germany_Male.Year.value_counts().reset_index(name='Male')"
   ]
  },
  {
   "cell_type": "code",
   "execution_count": null,
   "metadata": {
    "collapsed": true
   },
   "outputs": [],
   "source": [
    "Germany_Female.Year.value_counts().reset_index(name='Female')"
   ]
  },
  {
   "cell_type": "code",
   "execution_count": null,
   "metadata": {
    "collapsed": true
   },
   "outputs": [],
   "source": [
    "            #'1984', '1988', '1992', '1996', '2000', '2004', '2008','2012'\n",
    "Germany_M = [135,   213,     135,     76,     60,    75, 55 ,67]\n",
    "Germany_F = [64,    129,     101,      48,      58,     74,      44, 27]\n",
    "Germany_trace_M = go.Scatter(\n",
    "    x = Year,\n",
    "    y = Germany_M,\n",
    "    name = 'Male',\n",
    "    line = dict(\n",
    "        color = ('rgb(109, 159, 173)'),\n",
    "        width = 4)\n",
    ")\n",
    "Germany_trace_F = go.Scatter(\n",
    "    x = Year,\n",
    "    y = Germany_F,\n",
    "    name = 'Female',\n",
    "    line = dict(\n",
    "        color = ('rgb(217,169,155)'),\n",
    "        width = 4)\n",
    ")\n",
    "Germany_trace_Sex = [Germany_trace_M, Germany_trace_F]\n",
    "\n",
    "# Edit the layout\n",
    "Germany_trace_Sex_layout = dict(title = 'Germany Male- Female Medalist 1984-2014',\n",
    "              xaxis = dict(title = 'Year'),\n",
    "              yaxis = dict(title = 'Sex'),\n",
    "              )\n",
    "\n",
    "fig_Germany_Sex = dict(data=Germany_trace_Sex, layout=Germany_trace_Sex_layout )\n",
    "py.iplot(fig_Germany_Sex, filename='Germany Sex Medalist 1984-2014')"
   ]
  },
  {
   "cell_type": "markdown",
   "metadata": {},
   "source": [
    "#### China"
   ]
  },
  {
   "cell_type": "code",
   "execution_count": null,
   "metadata": {
    "collapsed": true
   },
   "outputs": [],
   "source": [
    "China_Gold = pd.DataFrame(olympicData[[\"region\", \"Year\",\"Sex\"]]\n",
    "                          [olympicData['region']=='China']\n",
    "                          [olympicData['Year']>=1984]\n",
    "                          [olympicData['Medal']=='Gold'])\n",
    "China_Silver = pd.DataFrame(olympicData[[\"region\", \"Year\",\"Sex\"]]\n",
    "                          [olympicData['region']=='China']\n",
    "                          [olympicData['Year']>=1984]\n",
    "                          [olympicData['Medal']=='Silver'])\n",
    "China_Bronze = pd.DataFrame(olympicData[[\"region\", \"Year\",\"Sex\"]]\n",
    "                          [olympicData['region']=='China']\n",
    "                          [olympicData['Year']>=1984]\n",
    "                          [olympicData['Medal']=='Bronze'])\n",
    "\n",
    "China_Male = pd.DataFrame(olympicData[[\"region\", \"Year\",\"Sex\"]]\n",
    "                          [olympicData['region']=='China']\n",
    "                          [olympicData['Year']>=1984]\n",
    "                          [(olympicData['Medal']=='Gold')|\n",
    "                            (olympicData['Medal']=='Silver')|\n",
    "                           (olympicData['Medal']=='Bronze')]\n",
    "                          [olympicData['Sex']=='M'])\n",
    "China_Female = pd.DataFrame(olympicData[[\"region\", \"Year\",\"Sex\"]]\n",
    "                          [olympicData['region']=='China']\n",
    "                          [olympicData['Year']>=1984]\n",
    "                          [(olympicData['Medal']=='Gold')|\n",
    "                            (olympicData['Medal']=='Silver')|\n",
    "                           (olympicData['Medal']=='Bronze')]\n",
    "                          [olympicData['Sex']=='F'])"
   ]
  },
  {
   "cell_type": "code",
   "execution_count": null,
   "metadata": {
    "collapsed": true
   },
   "outputs": [],
   "source": [
    "China_Gold.Year.value_counts().reset_index(name='GoldMedal')"
   ]
  },
  {
   "cell_type": "code",
   "execution_count": null,
   "metadata": {
    "collapsed": true
   },
   "outputs": [],
   "source": [
    "China_Silver.Year.value_counts().reset_index(name='SilverMedal')"
   ]
  },
  {
   "cell_type": "code",
   "execution_count": null,
   "metadata": {
    "collapsed": true
   },
   "outputs": [],
   "source": [
    "China_Bronze.Year.value_counts().reset_index(name='BronzeMedal')"
   ]
  },
  {
   "cell_type": "code",
   "execution_count": null,
   "metadata": {
    "collapsed": true
   },
   "outputs": [],
   "source": [
    "Year = ['1984', '1988', '1992', '1996', '2000', '2004', '2008','2012']\n",
    "China_G = [24,   6,    18,     20,     39,    52,      74,    56]\n",
    "China_S = [13,    16,    48,      70,      23,     29,       53,     40]\n",
    "China_B = [37,  30,    19,    17,       17,     15,       57,   30]\n",
    "\n",
    "China_trace_G = go.Scatter(\n",
    "    x = Year,\n",
    "    y = China_G,\n",
    "    name = 'Gold',\n",
    "    line = dict(\n",
    "        color = ('rgb(0,100,80)'),\n",
    "        width = 4)\n",
    ")\n",
    "China_trace_S = go.Scatter(\n",
    "    x = Year,\n",
    "    y =China_S,\n",
    "    name = 'Silver',\n",
    "    line = dict(\n",
    "        color = ('rgb(0,176,246)'),\n",
    "        width = 4)\n",
    ")\n",
    "China_trace_B = go.Scatter(\n",
    "    x = Year,\n",
    "    y = China_B,\n",
    "    name = 'Bronze',\n",
    "    line = dict(\n",
    "        color = ('rgb(231,107,243)'),\n",
    "        width = 4) # dash options include 'dash', 'dot', and 'dashdot'\n",
    ")\n",
    "China_trace_Medal = [China_trace_G, China_trace_S, China_trace_B]\n",
    "\n",
    "# Edit the layout\n",
    "China_trace_Medal_layout = dict(title = 'China Medalist 1984-2014',\n",
    "              xaxis = dict(title = 'Year'),\n",
    "              yaxis = dict(title = 'Medal'),\n",
    "              )\n",
    "\n",
    "fig_China_Medal= dict(data=China_trace_Medal, layout=China_trace_Medal_layout )\n",
    "py.iplot(fig_China_Medal, filename='China Medalist 1984-2014')"
   ]
  },
  {
   "cell_type": "code",
   "execution_count": null,
   "metadata": {
    "collapsed": true
   },
   "outputs": [],
   "source": [
    "China_Male.Year.value_counts().reset_index(name='Male')"
   ]
  },
  {
   "cell_type": "code",
   "execution_count": null,
   "metadata": {
    "collapsed": true
   },
   "outputs": [],
   "source": [
    "China_Female.Year.value_counts().reset_index(name='Female')"
   ]
  },
  {
   "cell_type": "code",
   "execution_count": null,
   "metadata": {},
   "outputs": [],
   "source": [
    "            #'1984', '1988', '1992', '1996', '2000', '2004', '2008','2012'\n",
    "China_M = [27,   14,     26,       30,    35 ,      32,  56 , 52]\n",
    "China_F = [47,    38,     59,      77,     44,     64,      128, 74]\n",
    "China_trace_M = go.Scatter(\n",
    "    x = Year,\n",
    "    y = China_M,\n",
    "    name = 'Male',\n",
    "    line = dict(\n",
    "        color = ('rgb(109, 159, 173)'),\n",
    "        width = 4)\n",
    ")\n",
    "China_trace_F = go.Scatter(\n",
    "    x = Year,\n",
    "    y = China_F,\n",
    "    name = 'Female',\n",
    "    line = dict(\n",
    "        color = ('rgb(217,169,155)'),\n",
    "        width = 4)\n",
    ")\n",
    "China_trace_Sex = [China_trace_M, China_trace_F]\n",
    "\n",
    "# Edit the layout\n",
    "China_trace_Sex_layout = dict(title = 'China Male-Female Medalist 1984-2014',\n",
    "              xaxis = dict(title = 'Year'),\n",
    "              yaxis = dict(title = 'Sex'),\n",
    "              )\n",
    "\n",
    "fig_China_Sex = dict(data=China_trace_Sex, layout=China_trace_Sex_layout )\n",
    "py.iplot(fig_China_Sex, filename='China Male-Female Medalist 1984-2014')"
   ]
  },
  {
   "cell_type": "markdown",
   "metadata": {},
   "source": [
    "#### Canda"
   ]
  },
  {
   "cell_type": "code",
   "execution_count": null,
   "metadata": {
    "collapsed": true
   },
   "outputs": [],
   "source": [
    "Canada_Gold = pd.DataFrame(olympicData[[\"region\", \"Year\",\"Sex\"]]\n",
    "                          [olympicData['region']=='Canada']\n",
    "                          [olympicData['Year']>=1984]\n",
    "                          [olympicData['Medal']=='Gold'])\n",
    "Canada_Silver = pd.DataFrame(olympicData[[\"region\", \"Year\",\"Sex\"]]\n",
    "                          [olympicData['region']=='Canada']\n",
    "                          [olympicData['Year']>=1984]\n",
    "                          [olympicData['Medal']=='Silver'])\n",
    "Canada_Bronze = pd.DataFrame(olympicData[[\"region\", \"Year\",\"Sex\"]]\n",
    "                          [olympicData['region']=='Canada']\n",
    "                          [olympicData['Year']>=1984]\n",
    "                          [olympicData['Medal']=='Bronze'])\n",
    "\n",
    "Canada_Male = pd.DataFrame(olympicData[[\"region\", \"Year\",\"Sex\"]]\n",
    "                          [olympicData['region']=='Canada']\n",
    "                          [olympicData['Year']>=1984]\n",
    "                          [(olympicData['Medal']=='Gold')|\n",
    "                            (olympicData['Medal']=='Silver')|\n",
    "                           (olympicData['Medal']=='Bronze')]\n",
    "                          [olympicData['Sex']=='M'])\n",
    "Canada_Female = pd.DataFrame(olympicData[[\"region\", \"Year\",\"Sex\"]]\n",
    "                          [olympicData['region']=='Canada']\n",
    "                          [olympicData['Year']>=1984]\n",
    "                          [(olympicData['Medal']=='Gold')|\n",
    "                            (olympicData['Medal']=='Silver')|\n",
    "                           (olympicData['Medal']=='Bronze')]\n",
    "                          [olympicData['Sex']=='F'])"
   ]
  },
  {
   "cell_type": "code",
   "execution_count": null,
   "metadata": {
    "collapsed": true
   },
   "outputs": [],
   "source": [
    "Canada_Gold.Year.value_counts().reset_index(name='GoldMedal')"
   ]
  },
  {
   "cell_type": "code",
   "execution_count": null,
   "metadata": {
    "collapsed": true
   },
   "outputs": [],
   "source": [
    "Canada_Silver.Year.value_counts().reset_index(name='SilverMedal')"
   ]
  },
  {
   "cell_type": "code",
   "execution_count": null,
   "metadata": {
    "collapsed": true
   },
   "outputs": [],
   "source": [
    "Canada_Bronze.Year.value_counts().reset_index(name='BronzeMedal')"
   ]
  },
  {
   "cell_type": "code",
   "execution_count": null,
   "metadata": {
    "collapsed": true
   },
   "outputs": [],
   "source": [
    "Year = ['1984', '1988', '1992', '1996', '2000', '2004', '2008','2012']\n",
    "Canada_G = [21,   4,    32,     8,     4,    3,      11,    1]\n",
    "Canada_S = [37,    7,    33,    30,      4,     10,       13,     21]\n",
    "Canada_B = [33,  18,    15,    12,       23,     4,       11,   33]\n",
    "Canada_trace_G = go.Scatter(\n",
    "    x = Year,\n",
    "    y = Canada_G,\n",
    "    name = 'Gold',\n",
    "    line = dict(\n",
    "        color = ('rgb(0,100,80)'),\n",
    "        width = 4)\n",
    ")\n",
    "Canada_trace_S = go.Scatter(\n",
    "    x = Year,\n",
    "    y =Canada_S,\n",
    "    name = 'Silver',\n",
    "    line = dict(\n",
    "        color = ('rgb(0,176,246)'),\n",
    "        width = 4)\n",
    ")\n",
    "Canada_trace_B = go.Scatter(\n",
    "    x = Year,\n",
    "    y = Canada_B,\n",
    "    name = 'Bronze',\n",
    "    line = dict(\n",
    "        color = ('rgb(231,107,243)'),\n",
    "        width = 4) # dash options include 'dash', 'dot', and 'dashdot'\n",
    ")\n",
    "Canada_trace_Medal = Canada_trace_G,Canada_trace_S, Canada_trace_B\n",
    "\n",
    "# Edit the layout\n",
    "Canada_trace_Medal_layout = dict(title = 'Canada Medalist 1984-2014',\n",
    "              xaxis = dict(title = 'Year'),\n",
    "              yaxis = dict(title = 'Medal'),\n",
    "              )\n",
    "\n",
    "fig_Canada_Medal= dict(data=Canada_trace_Medal, layout=Canada_trace_Medal_layout )\n",
    "py.iplot(fig_Canada_Medal, filename='Canada Medalist 1984-2014')"
   ]
  },
  {
   "cell_type": "code",
   "execution_count": null,
   "metadata": {
    "collapsed": true
   },
   "outputs": [],
   "source": [
    "Canada_Male.Year.value_counts().reset_index(name='Male')"
   ]
  },
  {
   "cell_type": "code",
   "execution_count": null,
   "metadata": {
    "collapsed": true
   },
   "outputs": [],
   "source": [
    "Canada_Female.Year.value_counts().reset_index(name='Female')"
   ]
  },
  {
   "cell_type": "code",
   "execution_count": null,
   "metadata": {},
   "outputs": [],
   "source": [
    "  #'1984', '1988', '1992', '1996', '2000', '2004', '2008','2012'\n",
    "Canada_M = [54,   12,     53,   19,    8 ,      10,  26 , 17]\n",
    "Canada_F = [37,    33,     27,      31,     23,     7,      9, 38]\n",
    "Canada_trace_M = go.Scatter(\n",
    "    x = Year,\n",
    "    y = Canada_M,\n",
    "    name = 'Male',\n",
    "    line = dict(\n",
    "        color = ('rgb(109, 159, 173)'),\n",
    "        width = 4)\n",
    ")\n",
    "Canada_trace_F = go.Scatter(\n",
    "    x = Year,\n",
    "    y = Canada_F,\n",
    "    name = 'Female',\n",
    "    line = dict(\n",
    "        color = ('rgb(217,169,155)'),\n",
    "        width = 4)\n",
    ")\n",
    "Canada_trace_Sex = [Canada_trace_M, Canada_trace_F]\n",
    "\n",
    "# Edit the layout\n",
    "Canada_trace_Sex_layout = dict(title = 'Canada Male-Female Medalist 1984-2014',\n",
    "              xaxis = dict(title = 'Year'),\n",
    "              yaxis = dict(title = 'Sex'),\n",
    "              )\n",
    "\n",
    "fig_Canada_Sex = dict(data=Canada_trace_Sex, layout=Canada_trace_Sex_layout )\n",
    "py.iplot(fig_Canada_Sex, filename='Canada Sex Medalist 1984-2014')"
   ]
  },
  {
   "cell_type": "markdown",
   "metadata": {},
   "source": [
    "#### USA Russia Germany China Canada 1984-2014"
   ]
  },
  {
   "cell_type": "code",
   "execution_count": null,
   "metadata": {
    "collapsed": true
   },
   "outputs": [],
   "source": [
    "USA_Total = pd.DataFrame(olympicData[[\"region\", \"Year\",\"Sex\"]]\n",
    "                          [olympicData['region']=='USA']\n",
    "                          [olympicData['Year']>=1984]\n",
    "                           [(olympicData['Medal']=='Gold')|\n",
    "                            (olympicData['Medal']=='Silver')|\n",
    "                           (olympicData['Medal']=='Bronze')])\n",
    "Russia_Total = pd.DataFrame(olympicData[[\"region\", \"Year\",\"Sex\"]]\n",
    "                          [olympicData['region']=='Russia']\n",
    "                          [olympicData['Year']>=1984]\n",
    "                           [(olympicData['Medal']=='Gold')|\n",
    "                            (olympicData['Medal']=='Silver')|\n",
    "                           (olympicData['Medal']=='Bronze')])\n",
    "Germany_Total = pd.DataFrame(olympicData[[\"region\", \"Year\",\"Sex\"]]\n",
    "                          [olympicData['region']=='Germany']\n",
    "                          [olympicData['Year']>=1984]\n",
    "                           [(olympicData['Medal']=='Gold')|\n",
    "                            (olympicData['Medal']=='Silver')|\n",
    "                           (olympicData['Medal']=='Bronze')])\n",
    "China_Total = pd.DataFrame(olympicData[[\"region\", \"Year\",\"Sex\"]]\n",
    "                          [olympicData['region']=='China']\n",
    "                          [olympicData['Year']>=1984]\n",
    "                           [(olympicData['Medal']=='Gold')|\n",
    "                            (olympicData['Medal']=='Silver')|\n",
    "                           (olympicData['Medal']=='Bronze')])\n",
    "Canada_Total = pd.DataFrame(olympicData[[\"region\", \"Year\",\"Sex\"]]\n",
    "                          [olympicData['region']=='Canada']\n",
    "                          [olympicData['Year']>=1984]\n",
    "                           [(olympicData['Medal']=='Gold')|\n",
    "                            (olympicData['Medal']=='Silver')|\n",
    "                           (olympicData['Medal']=='Bronze')])\n"
   ]
  },
  {
   "cell_type": "code",
   "execution_count": null,
   "metadata": {
    "collapsed": true
   },
   "outputs": [],
   "source": [
    "USA_Total.Year.value_counts().reset_index(name='USA Medal')"
   ]
  },
  {
   "cell_type": "code",
   "execution_count": null,
   "metadata": {
    "collapsed": true
   },
   "outputs": [],
   "source": [
    "Russia_Total.Year.value_counts().reset_index(name='Russia Medal')"
   ]
  },
  {
   "cell_type": "code",
   "execution_count": null,
   "metadata": {
    "collapsed": true
   },
   "outputs": [],
   "source": [
    "Germany_Total.Year.value_counts().reset_index(name='Germany Medal')"
   ]
  },
  {
   "cell_type": "code",
   "execution_count": null,
   "metadata": {
    "collapsed": true
   },
   "outputs": [],
   "source": [
    "China_Total.Year.value_counts().reset_index(name='China Medal')"
   ]
  },
  {
   "cell_type": "code",
   "execution_count": null,
   "metadata": {
    "collapsed": true
   },
   "outputs": [],
   "source": [
    "Canada_Total.Year.value_counts().reset_index(name='Canada Medal')"
   ]
  },
  {
   "cell_type": "code",
   "execution_count": null,
   "metadata": {},
   "outputs": [],
   "source": [
    "Year = ['1984', '1988', '1992', '1996', '2000', '2004', '2008','2012']\n",
    "USA_T = [361,   214,    238,     259,     242,    263,      317,    248]\n",
    "Russia_T = [56,    366,    279,      115,      187,     189,       142,     140]\n",
    "Germany_T = [199,  342,    236,    124,       118,     149,       99,   94]\n",
    "China_T = [74, 52, 85, 107, 79, 96, 184, 126]\n",
    "Canada_T=[91, 29, 80, 50, 31, 17, 35, 55]\n",
    "\n",
    "USA_trace_T = go.Scatter(\n",
    "    x = Year,\n",
    "    y = USA_T,\n",
    "    name = 'USA',\n",
    "    line = dict(\n",
    "        color = ('rgb(216,167,173)'),\n",
    "        width = 4)\n",
    ")\n",
    "\n",
    "Russia_trace_T = go.Scatter(\n",
    "    x = Year,\n",
    "    y = Russia_T,\n",
    "    name = 'Russia',\n",
    "    line = dict(\n",
    "        color = ('rgb(237,150,104)'),\n",
    "        width = 4)\n",
    ")\n",
    "Germany_trace_T = go.Scatter(\n",
    "    x = Year,\n",
    "    y = Germany_T,\n",
    "    name = 'Germany',\n",
    "    line = dict(\n",
    "        color = ('rgb(186,198,155)'),\n",
    "        width = 4)\n",
    ")\n",
    "China_trace_T = go.Scatter(\n",
    "    x = Year,\n",
    "    y = China_T,\n",
    "    name = 'China',\n",
    "    line = dict(\n",
    "        color = ('rgb(135,147,197)'),\n",
    "        width = 4)\n",
    ")\n",
    "Canada_trace_T = go.Scatter(\n",
    "    x = Year,\n",
    "    y = Canada_T,\n",
    "    name = 'Canada',\n",
    "    line = dict(\n",
    "        color = ('rgb(230,138,132)'),\n",
    "        width = 4)\n",
    ")\n",
    "\n",
    "Total_Trace_Medal = [USA_trace_T, Russia_trace_T,Germany_trace_T,China_trace_T,Canada_trace_T]\n",
    "\n",
    "# Edit the layout\n",
    "Total_Trace_Medal_layout = dict(title = 'Total Medalist 1984-2014',\n",
    "              xaxis = dict(title = 'Year'),\n",
    "              yaxis = dict(title = 'Medal'),\n",
    "              )\n",
    "\n",
    "fig_Total_Medal= dict(data=Total_Trace_Medal, layout=Total_Trace_Medal_layout  )\n",
    "py.iplot(fig_Total_Medal, filename='Total Medalist 1984-2014')"
   ]
  },
  {
   "cell_type": "markdown",
   "metadata": {},
   "source": [
    "### Total No.of Medals for each country"
   ]
  },
  {
   "cell_type": "code",
   "execution_count": null,
   "metadata": {
    "collapsed": true
   },
   "outputs": [],
   "source": [
    "TotalMedal.region.value_counts().reset_index(name='Total').head(20)"
   ]
  },
  {
   "cell_type": "code",
   "execution_count": null,
   "metadata": {
    "collapsed": true
   },
   "outputs": [],
   "source": [
    "Gold.region.value_counts().reset_index(name='Gold').head(30)"
   ]
  },
  {
   "cell_type": "code",
   "execution_count": null,
   "metadata": {
    "collapsed": true
   },
   "outputs": [],
   "source": [
    "Silver.region.value_counts().reset_index(name='Silver').head(23)"
   ]
  },
  {
   "cell_type": "code",
   "execution_count": null,
   "metadata": {
    "collapsed": true
   },
   "outputs": [],
   "source": [
    "Bronze.region.value_counts().reset_index(name='Bronze').head(23)"
   ]
  },
  {
   "cell_type": "code",
   "execution_count": null,
   "metadata": {
    "collapsed": true
   },
   "outputs": [],
   "source": [
    "NoMedal.region.value_counts().reset_index(name='NoMedal').head(40)"
   ]
  },
  {
   "cell_type": "code",
   "execution_count": null,
   "metadata": {
    "scrolled": false
   },
   "outputs": [],
   "source": [
    "#Choose the top 20 countries to analysize\n",
    "#USA Russia Germany China Australia\n",
    "#Canada Italy UK  France Netherlands \n",
    "#South Korea Japan Sweden Norway Brazil\n",
    "# Spain Romania Finland Cuba Serbia\n",
    "\n",
    "top_labels = ['Gold', 'Silver', 'Bronze']\n",
    "\n",
    "colors = [ 'rgba(217, 163,104, 0.8)','rgba(183,154,143,0.8)','rgba(250,224,128,0.6)']\n",
    "\n",
    "country_data = [\n",
    "                       [89,93,124],#Sebria\n",
    "                       [141,103,79],#Cuba\n",
    "                       [39,96,198],#Finland\n",
    "                       [130,128,136],#Romania\n",
    "                       [102,191,117],#spain\n",
    "                       [102,173,136],#Brazil\n",
    "                       [157,146,136],#Norway\n",
    "                       [112,206,156],#Sweden\n",
    "                       [109,187,256],#Japan\n",
    "                       [220,226,163],#South Korea\n",
    "                       [198,217,197],#Netherlands\n",
    "                       [202,210,271],#France\n",
    "                       [232,215,244],#UK\n",
    "                       [199,220,285],#Italy\n",
    "                       [313,288,261],#Canada\n",
    "                       [257,325,394],#Australia\n",
    "                       [351, 349, 293],    #China\n",
    "                       [635, 571, 603],#Germany\n",
    "                       [719, 527, 603],#Russia\n",
    "                       [1263, 824, 669]#USA\n",
    "                       ]\n",
    "\n",
    "country_name = ['Serbia','Spain','Romania', 'Finland', 'Cuba',\n",
    "                        'Brazil','Norway','Sweden','Japan', 'South Korea',\n",
    "                        'Netherlands','France','UK','Italy','Canada', \n",
    "                        'Australia','China','Germany','Russia','USA']\n",
    "\n",
    "\n",
    "traces = []\n",
    "\n",
    "for i in range(0, len(country_data[0])):\n",
    "    for xd, yd in zip(country_data, country_name):\n",
    "        traces.append(go.Bar(\n",
    "            x=[xd[i]],\n",
    "            y=[yd],\n",
    "            orientation='h',\n",
    "            marker=dict(\n",
    "                color=colors[i],\n",
    "                line=dict(\n",
    "                        color='rgb(248, 248, 249)',\n",
    "                        width=1)\n",
    "            )\n",
    "        ))\n",
    "\n",
    "layout = go.Layout(\n",
    "    xaxis=dict(\n",
    "        showgrid=False,\n",
    "        showline=False,\n",
    "        showticklabels=False,\n",
    "        zeroline=False,\n",
    "        domain=[0.15, 1]\n",
    "    ),\n",
    "    yaxis=dict(\n",
    "        showgrid=False,\n",
    "        showline=False,\n",
    "        showticklabels=False,\n",
    "        zeroline=False,\n",
    "    ),\n",
    "    barmode='stack',\n",
    "    paper_bgcolor='rgb(248, 248, 255)',\n",
    "    plot_bgcolor='rgb(248, 248, 255)',\n",
    "    margin=dict(\n",
    "        l=120,\n",
    "        r=60,\n",
    "        t=140,\n",
    "        b=80\n",
    "    ),\n",
    "    showlegend=False,\n",
    "    title= 'Totla Medalist 1984-2016'\n",
    ")\n",
    "\n",
    "annotations = []\n",
    "\n",
    "for yd, xd in zip(country_name, country_data):\n",
    "    # labeling the y-axis\n",
    "    annotations.append(dict(xref='paper', yref='y',\n",
    "                            x=0.14, y=yd,\n",
    "                            xanchor='right',\n",
    "                            text=str(yd),\n",
    "                            font=dict(family='Arial', size=10,\n",
    "                                      color='rgb(67, 67, 67)'),\n",
    "                            showarrow=False, align='right'))\n",
    "    \n",
    "    # labeling the first percentage of each bar (x_axis)\n",
    "    annotations.append(dict(xref='x', yref='y',\n",
    "                            x=xd[0] / 2, y=yd,\n",
    "                            text=str(xd[0]),\n",
    "                            font=dict(family='Arial', size=5, #gold\n",
    "                                      color='rgb(1, 1, 1)'),\n",
    "                            showarrow=False))\n",
    "    \n",
    "    # labeling the first Likert scale (on the top)\n",
    "    if yd == country_name[-1]:\n",
    "        annotations.append(dict(xref='x', yref='paper',\n",
    "                                x=xd[0] / 2, y=1.1,\n",
    "                                text=top_labels[0],\n",
    "                                font=dict(family='Arial', size=10,\n",
    "                                          color='rgb(67, 67, 67)'),\n",
    "                                showarrow=False))\n",
    "    space = xd[0]\n",
    "    for i in range(1, len(xd)):\n",
    "            # labeling the rest of percentages for each bar (x_axis)\n",
    "            annotations.append(dict(xref='x', yref='y',\n",
    "                                    x=space + (xd[i]/2), y=yd, \n",
    "                                    text=str(xd[i]),\n",
    "                                    font=dict(family='Arial', size=5,\n",
    "                                              color='rgb(1, 1, 1)'),\n",
    "                                    showarrow=False))\n",
    "            # labeling the Likert scale\n",
    "            if yd == country_name[-1]:\n",
    "                annotations.append(dict(xref='x', yref='paper',\n",
    "                                        x=space + (xd[i]/2), y=1.1,\n",
    "                                        text=top_labels[i],\n",
    "                                        font=dict(family='Arial', size=10,\n",
    "                                                  color='rgb(67, 67, 67)'),\n",
    "                                        showarrow=False))\n",
    "            space += xd[i]\n",
    "\n",
    "layout['annotations'] = annotations\n",
    "\n",
    "fig = go.Figure(data=traces, layout=layout)\n",
    "py.iplot(fig, filename='Medal')\n"
   ]
  },
  {
   "cell_type": "markdown",
   "metadata": {},
   "source": [
    "### Gender Analysize"
   ]
  },
  {
   "cell_type": "code",
   "execution_count": null,
   "metadata": {
    "collapsed": true
   },
   "outputs": [],
   "source": [
    "CountryData_1984_M.region.value_counts().reset_index(name='Participants Number').head(23)"
   ]
  },
  {
   "cell_type": "code",
   "execution_count": null,
   "metadata": {
    "collapsed": true
   },
   "outputs": [],
   "source": [
    "CountryData_1984_F.region.value_counts().reset_index(name='Participants Number').head(23)"
   ]
  },
  {
   "cell_type": "code",
   "execution_count": null,
   "metadata": {},
   "outputs": [],
   "source": [
    "#Choose the top 20 countries to analysize\n",
    "#USA Germany Russia Canada  China \n",
    "#Italy  France  Japan   Australia   UK \n",
    "#South Korea    Spain   Sweden  Netherlands Brazil  \n",
    "# Czech Republic  Poland Hungary\n",
    "\n",
    "#extract the top 20 countries\n",
    "#source: https://plot.ly/python/horizontal-bar-charts/#bar-chart-with-line-plot\n",
    "trace1 = go.Bar(\n",
    "    y=['Hungary','Ukraine','Poland','Czech Republic','Switzerland',\n",
    "    'Brazil','Netherlands', 'Sweden', 'Spain', 'South Korea',\n",
    "    'UK', 'Australia', 'Japan', 'France', 'Italy',\n",
    "     'China','Canada','Russia','Germany','USA'],\n",
    "     x=[1439, 1379, 1711,1734,1799,\n",
    "        1695,1502,1920,2367,2435,\n",
    "        2888,2826,2969,3494,3619,\n",
    "        2563,3261,3840,4597,5166],\n",
    "    name='Male',\n",
    "    orientation = 'h',\n",
    "    marker = dict(\n",
    "        color = 'rgba(198, 219, 168, 0.6)',\n",
    "        line = dict(\n",
    "            color = 'rgba(240, 240, 240, 1.0)',\n",
    "            width = 2)\n",
    "    )\n",
    ")\n",
    "trace2 = go.Bar(\n",
    "    y=['Hungary','Ukraine','Poland','Czech Republic','Switzerland',\n",
    "    'Brazil','Netherlands', 'Sweden', 'Spain', 'South Korea',\n",
    "    'UK', 'Australia', 'Japan', 'France', 'Italy',\n",
    "     'China','Canada','Russia','Germany','USA'],\n",
    "    x=[943, 1180, 997,981,925,\n",
    "      1064,1259,1252,1313,1363,\n",
    "      1992,2178,2128,1945,1882,\n",
    "      2964,2699,2828,3058,3930],\n",
    "    name='Female',\n",
    "    orientation = 'h',\n",
    "    marker = dict(\n",
    "        color = 'rgba(227, 151, 103, 0.6)',\n",
    "        line = dict(\n",
    "            color = 'rgba(240, 240, 240, 1.0)',\n",
    "            width = 2)\n",
    "    )\n",
    ")\n",
    "\n",
    "Participants = [trace1, trace2]\n",
    "layout = go.Layout(\n",
    "    barmode='stack',\n",
    "    title = 'Gender Ratio'\n",
    ")\n",
    "\n",
    "fig = go.Figure(data=Participants, layout=layout)\n",
    "py.iplot(fig, filename='male-female')"
   ]
  },
  {
   "cell_type": "code",
   "execution_count": null,
   "metadata": {},
   "outputs": [],
   "source": []
  }
 ],
 "metadata": {
  "kernelspec": {
   "display_name": "Python 3",
   "language": "python",
   "name": "python3"
  },
  "language_info": {
   "codemirror_mode": {
    "name": "ipython",
    "version": 3
   },
   "file_extension": ".py",
   "mimetype": "text/x-python",
   "name": "python",
   "nbconvert_exporter": "python",
   "pygments_lexer": "ipython3",
   "version": "3.7.1"
  }
 },
 "nbformat": 4,
 "nbformat_minor": 2
}