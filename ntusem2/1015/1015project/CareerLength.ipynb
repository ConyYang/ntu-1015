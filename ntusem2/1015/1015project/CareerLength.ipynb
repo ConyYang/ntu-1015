{
 "cells": [
  {
   "cell_type": "markdown",
   "metadata": {},
   "source": [
    "# Sports Career Length"
   ]
  },
  {
   "cell_type": "code",
   "execution_count": null,
   "metadata": {},
   "outputs": [],
   "source": [
    "# Basic Libraries\n",
    "import numpy as np\n",
    "import pandas as pd\n",
    "import seaborn as sb\n",
    "import matplotlib.pyplot as plt # we only need pyplot\n",
    "sb.set() # set the default Seaborn style for graphics\n",
    "\n",
    "import plotly.offline as py\n",
    "import plotly.figure_factory as ff\n",
    "import plotly.graph_objs as go\n",
    "from plotly import tools\n",
    "# Activate inline plotting in notebook\n",
    "py.init_notebook_mode(connected = False)"
   ]
  },
  {
   "cell_type": "code",
   "execution_count": null,
   "metadata": {},
   "outputs": [],
   "source": [
    "olympic = pd.read_csv('./athlete_events.csv')\n",
    "\n",
    "regions = pd.read_csv('./noc_regions.csv')"
   ]
  },
  {
   "cell_type": "code",
   "execution_count": null,
   "metadata": {},
   "outputs": [],
   "source": [
    "#merged the two dataset\n",
    "olympicData = pd.merge(olympic, regions, on='NOC', how='left')"
   ]
  },
  {
   "cell_type": "code",
   "execution_count": null,
   "metadata": {},
   "outputs": [],
   "source": [
    "Athlets_M = pd.DataFrame(olympicData[[\"Year\",\"Name\",\"Sport\",\"Sex\"]]\n",
    "                         [olympicData['Sex']=='M'])"
   ]
  },
  {
   "cell_type": "code",
   "execution_count": null,
   "metadata": {},
   "outputs": [],
   "source": [
    "from collections import OrderedDict"
   ]
  },
  {
   "cell_type": "code",
   "execution_count": null,
   "metadata": {},
   "outputs": [],
   "source": [
    "Sport_List_M = list(OrderedDict.fromkeys(Athlets_M['Sport']))"
   ]
  },
  {
   "cell_type": "code",
   "execution_count": null,
   "metadata": {
    "collapsed": true
   },
   "outputs": [],
   "source": [
    "Sport_List_M"
   ]
  },
  {
   "cell_type": "code",
   "execution_count": null,
   "metadata": {},
   "outputs": [],
   "source": [
    "len(Sport_List_M)"
   ]
  },
  {
   "cell_type": "code",
   "execution_count": null,
   "metadata": {},
   "outputs": [],
   "source": [
    "dic_sport_total_M={}"
   ]
  },
  {
   "cell_type": "code",
   "execution_count": null,
   "metadata": {},
   "outputs": [],
   "source": [
    "for everysport in Sport_List_M:\n",
    "    list_everysport= []\n",
    "    Athlets_M_everysport= Athlets_M[Athlets_M['Sport'] == everysport]\n",
    "    Namelist_everysport = list(OrderedDict.fromkeys(Athlets_M_everysport['Name']))\n",
    "    \n",
    "    for everyathelets in Namelist_everysport:\n",
    "         everyathelets= Athlets_M_everysport[(Athlets_M_everysport.Name==everyathelets)]\n",
    "         n = everyathelets['Year'].nunique()\n",
    "         list_everysport.append(n)\n",
    "    \n",
    "    dic_sport_total_M[everysport] = list_everysport"
   ]
  },
  {
   "cell_type": "code",
   "execution_count": null,
   "metadata": {
    "collapsed": true
   },
   "outputs": [],
   "source": [
    "dic_sport_total_M"
   ]
  },
  {
   "cell_type": "code",
   "execution_count": null,
   "metadata": {},
   "outputs": [],
   "source": [
    "len(dic_sport_total_M.keys())"
   ]
  },
  {
   "cell_type": "code",
   "execution_count": null,
   "metadata": {},
   "outputs": [],
   "source": [
    "List_sportlist_M=[]\n",
    "List_timelist_M=[]\n",
    "for key in dic_sport_total_M.keys(): \n",
    "    List_sportlist_M.append(key)\n",
    "for values in dic_sport_total_M.values(): \n",
    "    List_timelist_M.append(values)"
   ]
  },
  {
   "cell_type": "code",
   "execution_count": null,
   "metadata": {
    "collapsed": true
   },
   "outputs": [],
   "source": [
    "List_sportlist_M"
   ]
  },
  {
   "cell_type": "code",
   "execution_count": null,
   "metadata": {
    "collapsed": true
   },
   "outputs": [],
   "source": [
    "List_timelist_M"
   ]
  },
  {
   "cell_type": "code",
   "execution_count": null,
   "metadata": {
    "collapsed": true
   },
   "outputs": [],
   "source": [
    "from numpy import * \n",
    "\n",
    "N = 63    # Number of boxes\n",
    "\n",
    "# generate an array of rainbow colors by fixing the saturation and lightness of the HSL representation of colour \n",
    "# and marching around the hue. \n",
    "# Plotly accepts any CSS color format, see e.g. http://www.w3schools.com/cssref/css_colors_legal.asp.\n",
    "c = ['hsl('+str(h)+',50%'+',50%)' for h in linspace(0, 360, N)]\n",
    "\n",
    "# Each box is represented by a dict that contains the data, the type, and the colour. \n",
    "# Use list comprehension to describe N boxes, each with a different colour and with different randomly generated data:\n",
    "\n",
    "data_Male_Career = [{\n",
    "    'y': List_timelist_M[i], \n",
    "    'type':'box',\n",
    "    'marker':{'color': c[i]},\n",
    "    'name': List_sportlist_M[i]\n",
    "    } for i in range(int(N))]\n",
    "\n",
    "# format the layout\n",
    "layout_Male_Career  = {'xaxis': {'showgrid':False,'zeroline':False, 'tickangle':60,'showticklabels':True},\n",
    "          'yaxis': {'zeroline':False,'gridcolor':'white'},\n",
    "          'paper_bgcolor': 'rgb(233,233,233)',\n",
    "          'plot_bgcolor': 'rgb(233,233,233)',\n",
    "          'title': 'Male Athlets Career Length Across Sports',\n",
    "          }\n",
    "fig_Male_Career  = go.Figure(data=data_Male_Career , layout=layout_Male_Career)\n",
    "py.iplot(fig_Male_Career, filename='Male_Career')"
   ]
  },
  {
   "cell_type": "markdown",
   "metadata": {},
   "source": [
    "# Female Career Length"
   ]
  },
  {
   "cell_type": "code",
   "execution_count": null,
   "metadata": {},
   "outputs": [],
   "source": [
    "Athlets_F= pd.DataFrame(olympicData[[\"Year\",\"Name\",\"Sport\",\"Sex\"]]\n",
    "                         [olympicData['Sex']=='F'])\n",
    "Sport_List_F = list(OrderedDict.fromkeys(Athlets_F['Sport']))"
   ]
  },
  {
   "cell_type": "code",
   "execution_count": null,
   "metadata": {},
   "outputs": [],
   "source": [
    "dic_sport_total_F={}"
   ]
  },
  {
   "cell_type": "code",
   "execution_count": null,
   "metadata": {},
   "outputs": [],
   "source": [
    "for everysport in Sport_List_F:\n",
    "    list_everysport= []\n",
    "    Athlets_F_everysport= Athlets_F[Athlets_F['Sport'] == everysport]\n",
    "    Namelist_everysport = list(OrderedDict.fromkeys(Athlets_F_everysport['Name']))\n",
    "    \n",
    "    for everyathelets in Namelist_everysport:\n",
    "         everyathelets= Athlets_F_everysport[(Athlets_F_everysport.Name==everyathelets)]\n",
    "         n = everyathelets['Year'].nunique()\n",
    "         list_everysport.append(n)\n",
    "    \n",
    "    dic_sport_total_F[everysport] = list_everysport"
   ]
  },
  {
   "cell_type": "code",
   "execution_count": null,
   "metadata": {},
   "outputs": [],
   "source": [
    "List_sportlist_F=[]\n",
    "List_timelist_F=[]\n",
    "for key in dic_sport_total_F.keys(): \n",
    "    List_sportlist_F.append(key)\n",
    "for values in dic_sport_total_F.values(): \n",
    "    List_timelist_F.append(values)"
   ]
  },
  {
   "cell_type": "code",
   "execution_count": null,
   "metadata": {},
   "outputs": [],
   "source": [
    "len(List_sportlist_F)"
   ]
  },
  {
   "cell_type": "code",
   "execution_count": null,
   "metadata": {},
   "outputs": [],
   "source": [
    "from numpy import * \n",
    "\n",
    "N = 53    # Number of boxes\n",
    "\n",
    "# generate an array of rainbow colors by fixing the saturation and lightness of the HSL representation of colour \n",
    "# and marching around the hue. \n",
    "# Plotly accepts any CSS color format, see e.g. http://www.w3schools.com/cssref/css_colors_legal.asp.\n",
    "c = ['hsl('+str(h)+',50%'+',50%)' for h in linspace(0, 360, N)]\n",
    "\n",
    "# Each box is represented by a dict that contains the data, the type, and the colour. \n",
    "# Use list comprehension to describe N boxes, each with a different colour and with different randomly generated data:\n",
    "\n",
    "data_Female_Career = [{\n",
    "    'y': List_timelist_F[i], \n",
    "    'type':'box',\n",
    "    'marker':{'color': c[i]},\n",
    "    'name': List_sportlist_F[i]\n",
    "    } for i in range(int(N))]\n",
    "\n",
    "# format the layout\n",
    "layout_Female_Career  = {'xaxis': {'showgrid':False,'zeroline':False, 'tickangle':60,'showticklabels':True},\n",
    "          'yaxis': {'zeroline':False,'gridcolor':'white'},\n",
    "          'paper_bgcolor': 'rgb(233,233,233)',\n",
    "          'plot_bgcolor': 'rgb(233,233,233)',\n",
    "          'title': 'Female Athlets Career Length Across Sports',\n",
    "          }\n",
    "fig_Female_Career = go.Figure(data=data_Female_Career , layout=layout_Female_Career)\n",
    "py.iplot(fig_Female_Career, filename='Female_Career')"
   ]
  },
  {
   "cell_type": "markdown",
   "metadata": {},
   "source": [
    "# Compare between gender"
   ]
  },
  {
   "cell_type": "code",
   "execution_count": null,
   "metadata": {},
   "outputs": [],
   "source": [
    "def Average(lst): \n",
    "    return sum(lst) / len(lst)"
   ]
  },
  {
   "cell_type": "code",
   "execution_count": null,
   "metadata": {},
   "outputs": [],
   "source": [
    "average_dict_male={}\n",
    "n =0\n",
    "while (n<63):\n",
    "    average_dict_male[List_sportlist_M[n]] = Average(List_timelist_M[n])\n",
    "    n+=1\n",
    "average_dict_female={}\n",
    "n =0\n",
    "while (n<53):\n",
    "    average_dict_female[List_sportlist_F[n]] = Average(List_timelist_F[n])\n",
    "    n+=1"
   ]
  },
  {
   "cell_type": "code",
   "execution_count": null,
   "metadata": {
    "collapsed": true
   },
   "outputs": [],
   "source": [
    "average_dict_female"
   ]
  },
  {
   "cell_type": "code",
   "execution_count": null,
   "metadata": {
    "collapsed": true
   },
   "outputs": [],
   "source": [
    "average_dict_male"
   ]
  },
  {
   "cell_type": "code",
   "execution_count": null,
   "metadata": {},
   "outputs": [],
   "source": [
    "#Merge the same sports\n",
    "key_same = []\n",
    "for key_female in average_dict_female.keys():\n",
    "    for key_male in average_dict_male.keys():\n",
    "        if key_female == key_male:\n",
    "            key_same.append(key_female)"
   ]
  },
  {
   "cell_type": "code",
   "execution_count": null,
   "metadata": {},
   "outputs": [],
   "source": [
    "len(key_same)"
   ]
  },
  {
   "cell_type": "code",
   "execution_count": null,
   "metadata": {},
   "outputs": [],
   "source": [
    "average_dict_female_same = []\n",
    "for sportkey in key_same:\n",
    "    for key_female in average_dict_female.keys():\n",
    "        if sportkey == key_female:\n",
    "            average_dict_female_same.append(average_dict_female[key_female])\n",
    "    "
   ]
  },
  {
   "cell_type": "code",
   "execution_count": null,
   "metadata": {
    "collapsed": true
   },
   "outputs": [],
   "source": [
    "average_dict_female_same"
   ]
  },
  {
   "cell_type": "code",
   "execution_count": null,
   "metadata": {},
   "outputs": [],
   "source": [
    "average_dict_male_same = []\n",
    "for sportkey in key_same:\n",
    "    for key_male in average_dict_male.keys():\n",
    "        if sportkey == key_male:\n",
    "            average_dict_male_same.append(average_dict_male[key_male])"
   ]
  },
  {
   "cell_type": "code",
   "execution_count": null,
   "metadata": {
    "collapsed": true
   },
   "outputs": [],
   "source": [
    "average_dict_male_same"
   ]
  },
  {
   "cell_type": "code",
   "execution_count": null,
   "metadata": {},
   "outputs": [],
   "source": [
    "trace1 = go.Bar(\n",
    "    x=key_same,\n",
    "    y=average_dict_male_same,\n",
    "    name='Male',\n",
    "    marker=dict(\n",
    "        color='rgb(88,104,108)'\n",
    "    )\n",
    ")\n",
    "trace2 = go.Bar(\n",
    "    x=key_same,\n",
    "    y=average_dict_female_same,\n",
    "    name='Female',\n",
    "    marker=dict(\n",
    "        color='rgb(236,152,140)'\n",
    "    )\n",
    ")\n",
    "\n",
    "data = [trace1, trace2]\n",
    "layout = go.Layout(\n",
    "    title='Career Length across Sports and Gender',\n",
    "    xaxis=dict(\n",
    "        tickfont=dict(\n",
    "            size=5,\n",
    "            color='rgb(107, 107, 107)'\n",
    "        )\n",
    "    ),\n",
    "    yaxis=dict(\n",
    "        title='Career Length(No.of times join Olympics)',\n",
    "        titlefont=dict(\n",
    "            size=16,\n",
    "            color='rgb(107, 107, 107)'\n",
    "        ),\n",
    "        tickfont=dict(\n",
    "            size=14,\n",
    "            color='rgb(107, 107, 107)'\n",
    "        )\n",
    "    ),\n",
    "    legend=dict(\n",
    "        x=1.0,\n",
    "        y=1.0,\n",
    "        bgcolor='rgba(255, 255, 255, 0)',\n",
    "        bordercolor='rgba(255, 255, 255, 0)'\n",
    "    ),\n",
    "    barmode='group',\n",
    "    bargap=0.15,\n",
    "    bargroupgap=0.1\n",
    ")\n",
    "\n",
    "fig = go.Figure(data=data, layout=layout)\n",
    "py.iplot(fig, filename='style-bar')"
   ]
  },
  {
   "cell_type": "code",
   "execution_count": null,
   "metadata": {
    "collapsed": true
   },
   "outputs": [],
   "source": [
    "n =0\n",
    "countfemale = 0\n",
    "while (n<50):\n",
    "    if(average_dict_female_same[n] > average_dict_male_same[n]):\n",
    "        print(key_same[n])\n",
    "        countfemale +=1\n",
    "    n+=1\n",
    "print(countfemale)"
   ]
  },
  {
   "cell_type": "code",
   "execution_count": null,
   "metadata": {
    "collapsed": true
   },
   "outputs": [],
   "source": [
    "n =0\n",
    "countmale = 0\n",
    "while (n<50):\n",
    "    if(average_dict_female_same[n] < average_dict_male_same[n]):\n",
    "        print(key_same[n])\n",
    "        countmale +=1\n",
    "    n+=1\n",
    "print(countmale)"
   ]
  },
  {
   "cell_type": "code",
   "execution_count": null,
   "metadata": {
    "collapsed": true
   },
   "outputs": [],
   "source": [
    "n =0\n",
    "countsame = 0\n",
    "while (n<50):\n",
    "    if(average_dict_female_same[n] == average_dict_male_same[n]):\n",
    "        print(key_same[n])\n",
    "        countsame  +=1\n",
    "    n+=1\n",
    "print(countsame)"
   ]
  },
  {
   "cell_type": "code",
   "execution_count": null,
   "metadata": {},
   "outputs": [],
   "source": []
  }
 ],
 "metadata": {
  "kernelspec": {
   "display_name": "Python 3",
   "language": "python",
   "name": "python3"
  },
  "language_info": {
   "codemirror_mode": {
    "name": "ipython",
    "version": 3
   },
   "file_extension": ".py",
   "mimetype": "text/x-python",
   "name": "python",
   "nbconvert_exporter": "python",
   "pygments_lexer": "ipython3",
   "version": "3.7.1"
  },
  "pycharm": {
   "stem_cell": {
    "cell_type": "raw",
    "source": [],
    "metadata": {
     "collapsed": false
    }
   }
  }
 },
 "nbformat": 4,
 "nbformat_minor": 2
}